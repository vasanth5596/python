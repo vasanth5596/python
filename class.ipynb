{
 "cells": [
  {
   "cell_type": "code",
   "execution_count": 13,
   "metadata": {},
   "outputs": [
    {
     "name": "stdout",
     "output_type": "stream",
     "text": [
      "BMW\n",
      "100\n"
     ]
    }
   ],
   "source": [
    "class car:\n",
    "    def __init__(self,name,price):\n",
    "        self.name=name\n",
    "        self.price=price\n",
    "\n",
    "c1=car(\"BMW\",200)\n",
    "c2=car(\"audi\",100)\n",
    "\n",
    "print(c1.name)\n",
    "print(c2.price)"
   ]
  },
  {
   "cell_type": "code",
   "execution_count": 12,
   "metadata": {},
   "outputs": [
    {
     "name": "stdout",
     "output_type": "stream",
     "text": [
      "bmw(200)\n",
      "audi(100)\n"
     ]
    }
   ],
   "source": [
    "class car:\n",
    "    def __init__(self,name,price):\n",
    "        self.name=name\n",
    "        self.price=price\n",
    "    def __str__(self):\n",
    "        return f\"{self.name}({self.price})\"\n",
    "c1=car(\"bmw\",200)\n",
    "c2=car(\"audi\",100)\n",
    "print(c1)\n",
    "print(c2)"
   ]
  },
  {
   "cell_type": "code",
   "execution_count": 39,
   "metadata": {},
   "outputs": [
    {
     "name": "stdout",
     "output_type": "stream",
     "text": [
      "the car in the store is : bmw\n",
      "(self.name)+(self.price)\n",
      "the car in the store is : audi\n",
      "(self.name)+(self.price)\n"
     ]
    }
   ],
   "source": [
    "class car:\n",
    "    def __init__(self,name,price):\n",
    "        self.name=name\n",
    "        self.price=price\n",
    "    def fun(self):\n",
    "        print(\"the car in the store is : \"+ self.name )\n",
    "        print(f\"(self.name)+(self.price)\")\n",
    "c1=car(\"bmw\",200)\n",
    "c2=car(\"audi\",100)\n",
    "c1.fun()\n",
    "c2.fun()\n"
   ]
  },
  {
   "cell_type": "code",
   "execution_count": 17,
   "metadata": {},
   "outputs": [
    {
     "name": "stdout",
     "output_type": "stream",
     "text": [
      "Student name vasanth\n",
      "Student roll 12\n"
     ]
    },
    {
     "ename": "AttributeError",
     "evalue": "'Student' object has no attribute 'age'",
     "output_type": "error",
     "traceback": [
      "\u001b[1;31m---------------------------------------------------------------------------\u001b[0m",
      "\u001b[1;31mAttributeError\u001b[0m                            Traceback (most recent call last)",
      "Cell \u001b[1;32mIn[17], line 23\u001b[0m\n\u001b[0;32m     19\u001b[0m         \u001b[39mprint\u001b[39m(\u001b[39m\"\u001b[39m\u001b[39mStudent name\u001b[39m\u001b[39m\"\u001b[39m,\u001b[39mself\u001b[39m\u001b[39m.\u001b[39mmarks)\n\u001b[0;32m     22\u001b[0m s1\u001b[39m=\u001b[39mStudent(\u001b[39m\"\u001b[39m\u001b[39mvasanth\u001b[39m\u001b[39m\"\u001b[39m,\u001b[39m12\u001b[39m)\n\u001b[1;32m---> 23\u001b[0m s1\u001b[39m.\u001b[39;49mdisplay()\n\u001b[0;32m     24\u001b[0m s1\u001b[39m=\u001b[39mStudent(\u001b[39m23\u001b[39m,\u001b[39m98\u001b[39m)\n\u001b[0;32m     25\u001b[0m s1\u001b[39m.\u001b[39mgetage()\n",
      "Cell \u001b[1;32mIn[17], line 18\u001b[0m, in \u001b[0;36mStudent.display\u001b[1;34m(self)\u001b[0m\n\u001b[0;32m     16\u001b[0m \u001b[39mprint\u001b[39m(\u001b[39m\"\u001b[39m\u001b[39mStudent name\u001b[39m\u001b[39m\"\u001b[39m,\u001b[39mself\u001b[39m\u001b[39m.\u001b[39mname)\n\u001b[0;32m     17\u001b[0m \u001b[39mprint\u001b[39m(\u001b[39m\"\u001b[39m\u001b[39mStudent roll\u001b[39m\u001b[39m\"\u001b[39m,\u001b[39mself\u001b[39m\u001b[39m.\u001b[39mroll)\n\u001b[1;32m---> 18\u001b[0m \u001b[39mprint\u001b[39m(\u001b[39m\"\u001b[39m\u001b[39mStudent name\u001b[39m\u001b[39m\"\u001b[39m,\u001b[39mself\u001b[39;49m\u001b[39m.\u001b[39;49mage)\n\u001b[0;32m     19\u001b[0m \u001b[39mprint\u001b[39m(\u001b[39m\"\u001b[39m\u001b[39mStudent name\u001b[39m\u001b[39m\"\u001b[39m,\u001b[39mself\u001b[39m\u001b[39m.\u001b[39mmarks)\n",
      "\u001b[1;31mAttributeError\u001b[0m: 'Student' object has no attribute 'age'"
     ]
    }
   ],
   "source": [
    "class Student:\n",
    "    \n",
    "    \n",
    "    def __init__(self,name,roll):\n",
    "        self.name = name\n",
    "        self.roll = roll\n",
    "    \n",
    "    def setagemarks(self,age,marks):\n",
    "        self.age = age\n",
    "        self.marks = marks\n",
    "\n",
    "    def getage(self):\n",
    "        return self.age,self.marks\n",
    "      \n",
    "    def display(self):\n",
    "        print(\"Student name\",self.name)\n",
    "        print(\"Student roll\",self.roll)\n",
    "        print(\"Student name\",self.age)\n",
    "        print(\"Student name\",self.marks)\n",
    "          \n",
    "    \n",
    "s1=Student(\"vasanth\",12)\n",
    "s1.display()\n",
    "s1=Student(23,98)\n",
    "s1.getage()\n",
    "\n"
   ]
  },
  {
   "cell_type": "code",
   "execution_count": null,
   "metadata": {},
   "outputs": [],
   "source": []
  }
 ],
 "metadata": {
  "kernelspec": {
   "display_name": "Python 3",
   "language": "python",
   "name": "python3"
  },
  "language_info": {
   "codemirror_mode": {
    "name": "ipython",
    "version": 3
   },
   "file_extension": ".py",
   "mimetype": "text/x-python",
   "name": "python",
   "nbconvert_exporter": "python",
   "pygments_lexer": "ipython3",
   "version": "3.10.10"
  },
  "orig_nbformat": 4
 },
 "nbformat": 4,
 "nbformat_minor": 2
}
