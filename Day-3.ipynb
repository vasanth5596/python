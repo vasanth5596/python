{
 "cells": [
  {
   "cell_type": "code",
   "execution_count": 58,
   "metadata": {},
   "outputs": [
    {
     "name": "stdout",
     "output_type": "stream",
     "text": [
      "Python\n",
      "P\n",
      "n\n",
      "Pyth\n",
      "tho\n",
      "Pto\n",
      "ytho\n",
      "nohtyP\n",
      "Python\n",
      "Pyth\n"
     ]
    }
   ],
   "source": [
    "str=\"Python\"\n",
    "print(str[::])\n",
    "print(str[0])\n",
    "print(str[-1])\n",
    "print(str[0:4])\n",
    "print(str[-4:-1])\n",
    "print(str[0:5:2])\n",
    "print(str[1:-1])\n",
    "print(str[::-1])    #reverse of a string\n",
    "print(str[:])\n",
    "print(str[:4])"
   ]
  },
  {
   "cell_type": "code",
   "execution_count": 23,
   "metadata": {},
   "outputs": [
    {
     "name": "stdout",
     "output_type": "stream",
     "text": [
      "14\n",
      "False\n",
      "False\n",
      "False\n",
      "False\n",
      "Vasanth321 pss\n",
      "Vasanth321 Pss\n",
      "3\n",
      "True\n",
      "vasanth321 pss\n",
      "vasanth321 pss\n"
     ]
    }
   ],
   "source": [
    "str=\"Vasanth321 pss\"\n",
    "print(len(str))\n",
    "print(str.isupper())\n",
    "print(str.islower())\n",
    "print(str.isalpha())\n",
    "print(str.isalnum())\n",
    "print(str.capitalize())  #only starting words letter\n",
    "print(str.title())\n",
    "print(str.count(\"s\"))\n",
    "print(str.startswith('V'))\n",
    "print(str.casefold())\n"
   ]
  },
  {
   "cell_type": "code",
   "execution_count": 34,
   "metadata": {},
   "outputs": [
    {
     "name": "stdout",
     "output_type": "stream",
     "text": [
      "['Vasanth321', 'pss']\n",
      "['Vasanth321 pss']\n",
      "['Vasanth321 pss']\n"
     ]
    }
   ],
   "source": [
    "str=\"Vasanth321 pss\"\n",
    "print(str.split(\" \"))\n",
    "print(str.split(\",\"))\n",
    "print(str.split(\".\"))"
   ]
  },
  {
   "cell_type": "code",
   "execution_count": 40,
   "metadata": {},
   "outputs": [
    {
     "name": "stdout",
     "output_type": "stream",
     "text": [
      "V a s a n t h 3 2 1   p s s\n",
      "V,a,s,a,n,t,h,3,2,1, ,p,s,s\n",
      "vASANTH321 PSS\n"
     ]
    }
   ],
   "source": [
    "str=\"Vasanth321 pss\"\n",
    "str1=\" \".join(str)\n",
    "str2=\",\".join(str)\n",
    "#str3=\"$\".join(str)\n",
    "#print(str3)\n",
    "print(str1)\n",
    "print(str2)\n",
    "\n",
    "str4=str.swapcase()\n",
    "print(str4)"
   ]
  },
  {
   "cell_type": "code",
   "execution_count": 44,
   "metadata": {},
   "outputs": [
    {
     "name": "stdout",
     "output_type": "stream",
     "text": [
      "the string is a palindrome\n"
     ]
    }
   ],
   "source": [
    "#program to check if a string is palindrome or not\n",
    "\n",
    "str=input(\"enter the string\")\n",
    "if(str[::]==str[::-1]):\n",
    "    print(\"the string is a palindrome\")\n",
    "else:\n",
    "    print( \"string is not a palindrome\")\n",
    "\n"
   ]
  },
  {
   "cell_type": "code",
   "execution_count": 54,
   "metadata": {},
   "outputs": [
    {
     "name": "stdout",
     "output_type": "stream",
     "text": [
      "boy good a im\n"
     ]
    }
   ],
   "source": [
    "#program to revese the words of a string\n",
    "\n",
    "str=input(\"enter the string\")\n",
    "str2=str.split(\" \")[::-1]\n",
    "list=[ ]\n",
    "\n",
    "for items in str2:\n",
    "    list.append(items)\n",
    "\n",
    "str3=\" \".join(list)\n",
    "print(str3)\n"
   ]
  },
  {
   "cell_type": "code",
   "execution_count": 60,
   "metadata": {},
   "outputs": [
    {
     "name": "stdout",
     "output_type": "stream",
     "text": [
      "vsamth\n"
     ]
    }
   ],
   "source": [
    "#pgrm to remove nth index of a string\n",
    "\n",
    "str=input(\"enter the string\")\n",
    "n=int(input(\"enter the index to remove\"))\n",
    "def remove(str,n):\n",
    "    sub_str1=str[0:n]\n",
    "    sub_str2=str[n+1:]\n",
    "    str2=sub_str1+sub_str2\n",
    "    print(str2)\n",
    "remove(str,n)"
   ]
  },
  {
   "cell_type": "code",
   "execution_count": 73,
   "metadata": {},
   "outputs": [
    {
     "name": "stdout",
     "output_type": "stream",
     "text": [
      "a\n",
      "None\n"
     ]
    }
   ],
   "source": [
    "#pgrm to find middle char of  a string\n",
    "str=input(\"enter the string\")\n",
    "def middle(str):\n",
    "    m=len(str)//2\n",
    "    if m!=0 and len(str)%2!=0:\n",
    "        print(str[m])\n",
    "    else:\n",
    "        print(\"  \")\n",
    "middle_letter=middle(str)\n",
    "print(middle_letter)"
   ]
  },
  {
   "cell_type": "code",
   "execution_count": 105,
   "metadata": {},
   "outputs": [
    {
     "name": "stdout",
     "output_type": "stream",
     "text": [
      "1\n",
      "[1, 2]\n",
      "[1, 2, 3, 4]\n",
      "[1, 2, 3, 4, 5, 6]\n",
      "[1, 2, 3, 4, 7, 8]\n",
      "[1, 2, 3, 4, 7, 8, 9, 10]\n",
      "[1, 2, 3, 4, 7, 8, 1, 2, 3, 4, 7, 8, 1, 2, 3, 4, 7, 8]\n",
      "[1, 2, 3, 4, 7, 5, 6]\n",
      "[1, 2, 3, 4, 7, 5, 6, 8]\n",
      "[1, 2, 3, 4, 5, 6, 8]\n",
      "[1, 2, 3, 4, 5, 6]\n",
      "[1, 2, 3, 4]\n",
      "[1, 2, 3, 4]\n"
     ]
    }
   ],
   "source": [
    "# list\n",
    "\n",
    "list1=[1,2,3]\n",
    "print(list1[0])\n",
    "print(list1[0:2])\n",
    "\n",
    "list1.append(4)\n",
    "print(list1)\n",
    "\n",
    "list1.extend([5,6])\n",
    "print(list1)\n",
    "\n",
    "list1[4:]=[7,8]\n",
    "print(list1)\n",
    "\n",
    "print(list1 + [9,10])\n",
    "\n",
    "print(list1*3)\n",
    "\n",
    "list1[5:7]=[5,6]\n",
    "print(list1)\n",
    "\n",
    "list1.insert(7,8)\n",
    "print(list1)\n",
    "\n",
    "list1.remove(7)\n",
    "print(list1)\n",
    "\n",
    "list1.pop(6)\n",
    "print(list1)\n",
    "\n",
    "list1[4:]=[]\n",
    "print(list1)\n",
    "\n",
    "list2=list1.copy()\n",
    "print(list2)"
   ]
  },
  {
   "cell_type": "code",
   "execution_count": 2,
   "metadata": {},
   "outputs": [
    {
     "name": "stdout",
     "output_type": "stream",
     "text": [
      "['1', '2', '1']\n"
     ]
    }
   ],
   "source": [
    "# prgm to take elements into a list\n",
    "\n",
    "n=int(input(\"enter the n.o of elements\"))\n",
    "marks=[]\n",
    "for i in range(n):\n",
    "    x=input(\"enter the elements\")\n",
    "    marks.append(x)\n",
    "print(marks)\n"
   ]
  },
  {
   "cell_type": "code",
   "execution_count": 22,
   "metadata": {},
   "outputs": [
    {
     "name": "stdout",
     "output_type": "stream",
     "text": [
      "[75, 75, 75]\n",
      "you are graduated\n"
     ]
    }
   ],
   "source": [
    "# prgm to read elements and find average of the elements\n",
    "\n",
    "from tokenize import Intnumber\n",
    "\n",
    "\n",
    "n=int(input(\"enter the n.o of subjects\"))\n",
    "marks=[]\n",
    "sum=0\n",
    "for i in range(n):\n",
    "    x=int(input(\"enter the marks\"))\n",
    "    marks.append(x)\n",
    "    sum+=x\n",
    "print(marks)\n",
    "\n",
    "def average(marks):\n",
    "    return sum/n\n",
    "\n",
    "if(average(marks)>=75):\n",
    "    print(\"you are graduated\")\n",
    "else:\n",
    "    print(\"better luck next time\")"
   ]
  },
  {
   "cell_type": "code",
   "execution_count": 41,
   "metadata": {},
   "outputs": [
    {
     "name": "stdout",
     "output_type": "stream",
     "text": [
      "element found\n"
     ]
    }
   ],
   "source": [
    "#searching an element\n",
    "\n",
    "list=[1,2,3,4,5,6]\n",
    "n=int(input(\"enter the element to search: \"))\n",
    "for i in list:\n",
    "    if n==i:\n",
    "        print(\"element found\")\n",
    "    #else:\n",
    "       # print(\"element not found\")"
   ]
  },
  {
   "cell_type": "code",
   "execution_count": 53,
   "metadata": {},
   "outputs": [
    {
     "name": "stdout",
     "output_type": "stream",
     "text": [
      "[2, 4, 1, 3, 5]\n",
      "[2, 4]\n",
      "[1, 3, 5]\n"
     ]
    }
   ],
   "source": [
    "n=(int(input(\"enter no of elements\")))\n",
    "even_list=[]\n",
    "odd_list=[]\n",
    "for i in range(n):\n",
    "    x=int(input(\"enter the elements\"))\n",
    "    if x%2==0:\n",
    "        even_list.append(x)\n",
    "    else:\n",
    "        odd_list.append(x)\n",
    "print(even_list+odd_list)\n",
    "print(even_list)\n",
    "print(odd_list)\n"
   ]
  },
  {
   "cell_type": "code",
   "execution_count": 65,
   "metadata": {},
   "outputs": [
    {
     "name": "stdout",
     "output_type": "stream",
     "text": [
      "[3, 3, 2]\n",
      "element3 occured 2 times\n",
      "element3 occured 2 times\n",
      "element2 occured 1 times\n"
     ]
    }
   ],
   "source": [
    "# remove all duplicate elements in the list\n",
    "\n",
    "n=(int(input(\"enter no of elements\")))\n",
    "list3=[]\n",
    "\n",
    "for i in range(n):\n",
    "    x=int(input(\"enter the elements\"))\n",
    "    list3.append(x)\n",
    "print(list3)\n",
    "\n",
    "for i in list3:\n",
    "    x=list3.count(i)\n",
    "    print(f\"element{i} occured {x} times\")"
   ]
  },
  {
   "cell_type": "code",
   "execution_count": null,
   "metadata": {},
   "outputs": [],
   "source": []
  }
 ],
 "metadata": {
  "kernelspec": {
   "display_name": "Python 3",
   "language": "python",
   "name": "python3"
  },
  "language_info": {
   "codemirror_mode": {
    "name": "ipython",
    "version": 3
   },
   "file_extension": ".py",
   "mimetype": "text/x-python",
   "name": "python",
   "nbconvert_exporter": "python",
   "pygments_lexer": "ipython3",
   "version": "3.10.10"
  },
  "orig_nbformat": 4,
  "vscode": {
   "interpreter": {
    "hash": "2539afa28237424c50a7c2dfc5e2669e8fc966c57afacedf0491a5c350f92531"
   }
  }
 },
 "nbformat": 4,
 "nbformat_minor": 2
}
