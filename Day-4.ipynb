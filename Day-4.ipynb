{
 "cells": [
  {
   "cell_type": "code",
   "execution_count": 54,
   "metadata": {},
   "outputs": [
    {
     "name": "stdout",
     "output_type": "stream",
     "text": [
      "1\n"
     ]
    }
   ],
   "source": [
    "tuple=(1,2,3,4,3,2,1,1)\n",
    "tuple1=(\"vasanth\")\n",
    "#print(tuple.index(3))\n",
    "print(tuple1.index(\"a\",1))\n"
   ]
  },
  {
   "cell_type": "code",
   "execution_count": 18,
   "metadata": {},
   "outputs": [
    {
     "name": "stdout",
     "output_type": "stream",
     "text": [
      "(1, 2, 3, 4, 5, 6)\n"
     ]
    }
   ],
   "source": [
    "#tuple concatination\n",
    "\n",
    "tuple1=(1,2,3)\n",
    "tuple2=(4,5,6)\n",
    "print(tuple1+tuple2)"
   ]
  },
  {
   "cell_type": "code",
   "execution_count": 13,
   "metadata": {},
   "outputs": [
    {
     "name": "stdout",
     "output_type": "stream",
     "text": [
      "vasanth\n",
      "bhupal\n",
      "sai\n"
     ]
    }
   ],
   "source": [
    "# travese through  a tuple using loops\n",
    "\n",
    "tuple=('vasanth','bhupal','sai')\n",
    "\n",
    "for i in tuple:\n",
    "    print(i)"
   ]
  },
  {
   "cell_type": "code",
   "execution_count": 17,
   "metadata": {},
   "outputs": [
    {
     "name": "stdout",
     "output_type": "stream",
     "text": [
      "vasanth\n",
      "bhupal\n",
      "sai\n"
     ]
    }
   ],
   "source": [
    "tuple=('vasanth','bhupal','sai')\n",
    "i=0\n",
    "while(i<len(tuple)):\n",
    "    print(tuple[i])\n",
    "    i=i+1"
   ]
  },
  {
   "cell_type": "code",
   "execution_count": 3,
   "metadata": {},
   "outputs": [
    {
     "name": "stdout",
     "output_type": "stream",
     "text": [
      "(1, 2, 3, 5, 6, 7, 8)\n"
     ]
    }
   ],
   "source": [
    "#adding elements into the tuple by converting the tuple into the list and vice-versa \n",
    "\n",
    "t=(1,2,3)\n",
    "l = list(t)\n",
    "l.extend([5,6,7,8])\n",
    "t2 = tuple(l)\n",
    "print(t2)\n",
    "\n"
   ]
  },
  {
   "cell_type": "code",
   "execution_count": 40,
   "metadata": {},
   "outputs": [
    {
     "name": "stdout",
     "output_type": "stream",
     "text": [
      "(1, 2, 3, 5, 6)\n"
     ]
    }
   ],
   "source": [
    "#to remove an elemnet\n",
    "# element 4 is removed using concatination\n",
    "\n",
    "t=(1,2,3,4,5,6)\n",
    "t1=t[0:3]+t[4:]\n",
    "print(t1)"
   ]
  },
  {
   "cell_type": "code",
   "execution_count": 4,
   "metadata": {},
   "outputs": [
    {
     "name": "stdout",
     "output_type": "stream",
     "text": [
      "(1, 2, 3, 4)\n",
      "<class 'tuple'>\n"
     ]
    }
   ],
   "source": [
    "# to create a copy of a tuple\n",
    "\n",
    "from copy import deepcopy\n",
    "\n",
    "\n",
    "t3=(1,2,3,4)\n",
    "t4=deepcopy(t3)\n",
    "#print(tuple(t4))\n",
    "#t4[2].append(5)\n",
    "print(t4)\n",
    "print(type(t4))"
   ]
  },
  {
   "cell_type": "code",
   "execution_count": 56,
   "metadata": {},
   "outputs": [
    {
     "name": "stdout",
     "output_type": "stream",
     "text": [
      "15\n"
     ]
    }
   ],
   "source": [
    "# sum of all the elements in a tuple\n",
    "\n",
    "t=(1,2,3,4,5)\n",
    "s=sum(t)\n",
    "print(s)"
   ]
  },
  {
   "cell_type": "code",
   "execution_count": 63,
   "metadata": {},
   "outputs": [
    {
     "name": "stdout",
     "output_type": "stream",
     "text": [
      "[1, 2, 3, 4]\n"
     ]
    },
    {
     "data": {
      "text/plain": [
       "[1, 2, 3, 4, 5]"
      ]
     },
     "execution_count": 63,
     "metadata": {},
     "output_type": "execute_result"
    }
   ],
   "source": [
    "l1=[1,2,3,4]\n",
    "l2=l1.copy()\n",
    "l1.append(5)\n",
    "print(l2)\n",
    "l1"
   ]
  },
  {
   "cell_type": "code",
   "execution_count": 64,
   "metadata": {},
   "outputs": [
    {
     "name": "stdout",
     "output_type": "stream",
     "text": [
      "{1, 2, 3, 4, 5}\n"
     ]
    }
   ],
   "source": [
    "# sets\n",
    "# immutable,unorderd,unchangable,unindexed but we can add 0r delete elements(can't change the element in that place)\n",
    "\n",
    "s={1,2,3,4,5}\n",
    "print(s)\n"
   ]
  },
  {
   "cell_type": "code",
   "execution_count": 68,
   "metadata": {},
   "outputs": [
    {
     "name": "stdout",
     "output_type": "stream",
     "text": [
      "vasanth\n",
      "bhupal\n",
      "sai\n"
     ]
    }
   ],
   "source": [
    "# to access the elemenets in the set\n",
    "set1={\"vasanth\",\"bhupal\",\"sai\"}\n",
    "for i in set1:\n",
    "    print(i)\n"
   ]
  },
  {
   "cell_type": "code",
   "execution_count": 99,
   "metadata": {},
   "outputs": [
    {
     "name": "stdout",
     "output_type": "stream",
     "text": [
      "{'vasanth', 'bhupal', 'harish', 'sai'}\n"
     ]
    },
    {
     "data": {
      "text/plain": [
       "{'bhupal', 'harish', 'kiran', 'pavan', 'sai', 'vasanth'}"
      ]
     },
     "execution_count": 99,
     "metadata": {},
     "output_type": "execute_result"
    }
   ],
   "source": [
    "# methods of set\n",
    "# add method\n",
    "#adds only single element\n",
    "\n",
    "set1={\"vasanth\",\"bhupal\",\"sai\"}\n",
    "set1.add(\"harish\")\n",
    "print(set1)\n",
    "\n",
    "#update method\n",
    "#adds whole set into another set\n",
    "\n",
    "set2={\"pavan\",\"kiran\"}\n",
    "set1.update(set2)\n",
    "set1"
   ]
  },
  {
   "cell_type": "code",
   "execution_count": 83,
   "metadata": {},
   "outputs": [
    {
     "data": {
      "text/plain": [
       "{'sai', 'vasanth'}"
      ]
     },
     "execution_count": 83,
     "metadata": {},
     "output_type": "execute_result"
    }
   ],
   "source": [
    "#removing elemnets\n",
    "# remove or discard methods\n",
    "set1={\"vasanth\",\"bhupal\",\"sai\"}\n",
    "set1.remove(\"bhupal\")\n",
    "set1\n",
    "\n",
    "#set1.discard(\"sai\")       # discard method---dont return error if the elemenet doesnt present in the set\n",
    "#set1\n",
    "\n",
    "\n",
    "#set1.pop()                 # removes random element\n",
    "#set1\n",
    "\n",
    "#set1.clear()               # clears the elements in the set\n",
    "\n",
    "\n",
    "#del set1\n",
    "#set1                        # delets the whole set"
   ]
  },
  {
   "cell_type": "code",
   "execution_count": 100,
   "metadata": {},
   "outputs": [
    {
     "name": "stdout",
     "output_type": "stream",
     "text": [
      "{1, 2, 3, 4, 5, 6, 7}\n",
      "{1, 2, 3, 4}\n",
      "{1, 2, 3, 4}\n",
      "<class 'set'>\n",
      "{5, 6, 7}\n"
     ]
    }
   ],
   "source": [
    "# union method\n",
    "set1={1,2,3,4}\n",
    "set2={1,2,3,4,5,6,7}\n",
    "print(set1.union(set2))                  # all elements  \n",
    "\n",
    "print(set1.intersection(set2))           # common elements\n",
    "\n",
    "print(set1 & set2)                      #same as intersection\n",
    "\n",
    "print(set)\n",
    "print(set1.symmetric_difference(set2))\n",
    "\n"
   ]
  },
  {
   "cell_type": "code",
   "execution_count": 92,
   "metadata": {},
   "outputs": [
    {
     "data": {
      "text/plain": [
       "True"
      ]
     },
     "execution_count": 92,
     "metadata": {},
     "output_type": "execute_result"
    }
   ],
   "source": [
    "set1={3,2,1}\n",
    "set2={3,2,1,0}\n",
    "\n",
    "#set1.isdisjoint(set2)                          #true if both sets have no commmon elemnets\n",
    "\n",
    "#set2.issuperset(set1)                          # true if set1 is superset of set2\n",
    "\n",
    "set1.issubset(set2)                              # true if set1 is subset of set2"
   ]
  },
  {
   "cell_type": "code",
   "execution_count": 97,
   "metadata": {},
   "outputs": [
    {
     "name": "stdout",
     "output_type": "stream",
     "text": [
      "{0, 1, 2, 3}\n"
     ]
    }
   ],
   "source": [
    "set1={3,2,1}\n",
    "set2={3,2,1,0}\n",
    "\n",
    "set3=set2.copy()\n",
    "print(set3)                                         # copies the set into another set\n"
   ]
  },
  {
   "cell_type": "code",
   "execution_count": 109,
   "metadata": {},
   "outputs": [
    {
     "name": "stdout",
     "output_type": "stream",
     "text": [
      "['1', '1', '2']\n",
      "['2']\n"
     ]
    }
   ],
   "source": [
    "   #Python program to find all the unique elements\n",
    "\n",
    "n=int(input(\"enter the n.o of elemnets of the list\"))\n",
    "list1=[]\n",
    "for i in range(n):\n",
    "    x=input(\"entr the elements\")\n",
    "    list1.append(x)\n",
    "print(list1)\n",
    "\n",
    "unique_list=[]\n",
    "def unique(list):\n",
    "    #unique_list=[set(list)]\n",
    "    for j in list1:\n",
    "        y=list1.count(j)\n",
    "        if(y==1):\n",
    "            unique_list.append(j)\n",
    "\n",
    "unique(unique_list)\n",
    "print(unique_list)\n",
    "        \n",
    "        "
   ]
  },
  {
   "cell_type": "code",
   "execution_count": 122,
   "metadata": {},
   "outputs": [
    {
     "name": "stdout",
     "output_type": "stream",
     "text": [
      "original list\n",
      "['3', '2', '3']\n",
      "element{'3', '2'} repeated0 times\n"
     ]
    }
   ],
   "source": [
    "#program to find duplicates in a list\n",
    "\n",
    "n=int(input(\"enter n.o of elements in the list\"))\n",
    "list2=[]\n",
    "for i in range(n):\n",
    "    x=input(\"enter the element\")\n",
    "    list2.append(x)\n",
    "print(\"original list\")\n",
    "print(list2)\n",
    "\n",
    "def dups(list):\n",
    "    list_d=[set(list)]\n",
    "    for i in list_d:\n",
    "        y=list2.count(i)\n",
    "        if(y!=1):\n",
    "            print(f\"element{i} repeated{y} times\")\n",
    "dups(list2)"
   ]
  }
 ],
 "metadata": {
  "kernelspec": {
   "display_name": "Python 3",
   "language": "python",
   "name": "python3"
  },
  "language_info": {
   "codemirror_mode": {
    "name": "ipython",
    "version": 3
   },
   "file_extension": ".py",
   "mimetype": "text/x-python",
   "name": "python",
   "nbconvert_exporter": "python",
   "pygments_lexer": "ipython3",
   "version": "3.10.10"
  },
  "orig_nbformat": 4,
  "vscode": {
   "interpreter": {
    "hash": "2539afa28237424c50a7c2dfc5e2669e8fc966c57afacedf0491a5c350f92531"
   }
  }
 },
 "nbformat": 4,
 "nbformat_minor": 2
}
