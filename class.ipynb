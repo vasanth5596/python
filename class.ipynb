{
 "cells": [
  {
   "cell_type": "code",
   "execution_count": 13,
   "metadata": {},
   "outputs": [
    {
     "name": "stdout",
     "output_type": "stream",
     "text": [
      "BMW\n",
      "100\n"
     ]
    }
   ],
   "source": [
    "class car:\n",
    "    def __init__(self,name,price):\n",
    "        self.name=name\n",
    "        self.price=price\n",
    "\n",
    "c1=car(\"BMW\",200)\n",
    "c2=car(\"audi\",100)\n",
    "\n",
    "print(c1.name)\n",
    "print(c2.price)"
   ]
  },
  {
   "cell_type": "code",
   "execution_count": 12,
   "metadata": {},
   "outputs": [
    {
     "name": "stdout",
     "output_type": "stream",
     "text": [
      "bmw(200)\n",
      "audi(100)\n"
     ]
    }
   ],
   "source": [
    "class car:\n",
    "    def __init__(self,name,price):\n",
    "        self.name=name\n",
    "        self.price=price\n",
    "    def __str__(self):\n",
    "        return f\"{self.name}({self.price})\"\n",
    "c1=car(\"bmw\",200)\n",
    "c2=car(\"audi\",100)\n",
    "print(c1)\n",
    "print(c2)"
   ]
  },
  {
   "cell_type": "code",
   "execution_count": 39,
   "metadata": {},
   "outputs": [
    {
     "name": "stdout",
     "output_type": "stream",
     "text": [
      "the car in the store is : bmw\n",
      "(self.name)+(self.price)\n",
      "the car in the store is : audi\n",
      "(self.name)+(self.price)\n"
     ]
    }
   ],
   "source": [
    "class car:\n",
    "    def __init__(self,name,price):\n",
    "        self.name=name\n",
    "        self.price=price\n",
    "    def fun(self):\n",
    "        print(\"the car in the store is : \"+ self.name )\n",
    "        print(f\"(self.name)+(self.price)\")\n",
    "c1=car(\"bmw\",200)\n",
    "c2=car(\"audi\",100)\n",
    "c1.fun()\n",
    "c2.fun()\n"
   ]
  },
  {
   "cell_type": "code",
   "execution_count": null,
   "metadata": {},
   "outputs": [],
   "source": []
  }
 ],
 "metadata": {
  "kernelspec": {
   "display_name": "Python 3",
   "language": "python",
   "name": "python3"
  },
  "language_info": {
   "codemirror_mode": {
    "name": "ipython",
    "version": 3
   },
   "file_extension": ".py",
   "mimetype": "text/x-python",
   "name": "python",
   "nbconvert_exporter": "python",
   "pygments_lexer": "ipython3",
   "version": "3.10.10"
  },
  "orig_nbformat": 4
 },
 "nbformat": 4,
 "nbformat_minor": 2
}
