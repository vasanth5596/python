{
 "cells": [
  {
   "cell_type": "code",
   "execution_count": 1,
   "metadata": {},
   "outputs": [
    {
     "name": "stdout",
     "output_type": "stream",
     "text": [
      "not eligible for voting\n"
     ]
    }
   ],
   "source": [
    "#1.  write a programe to check weather the preson eligible for vote are not.\n",
    "\n",
    "age=int(input(\"enter the age\"))\n",
    "if(age>18):\n",
    "    print(\"eligible for voting\")\n",
    "else:\n",
    "    print(\"not eligible for voting\")"
   ]
  },
  {
   "cell_type": "code",
   "execution_count": 3,
   "metadata": {},
   "outputs": [
    {
     "name": "stdout",
     "output_type": "stream",
     "text": [
      "34 is an even number\n"
     ]
    }
   ],
   "source": [
    "#2.  Write a program to check weather a number entered by user is even number or odd\n",
    "\n",
    "n=int(input(\"enter the number\"))\n",
    "if(n%2==0):\n",
    "    print(n,\"is an even number\")\n",
    "else:\n",
    "    print(n,\"is odd number\")"
   ]
  },
  {
   "cell_type": "code",
   "execution_count": 4,
   "metadata": {},
   "outputs": [
    {
     "name": "stdout",
     "output_type": "stream",
     "text": [
      "today is wednesday\n"
     ]
    }
   ],
   "source": [
    "#3.  write a program to accept a number from 1 to 7 and display the name of the day like 1 for ssunday, 2 for monday and so on.\n",
    "\n",
    "n=int(input(\"enter the number\"))\n",
    "if(n==1):\n",
    "    print(\"today is sunday\")\n",
    "elif(n==2):\n",
    "    print(\"today is monday\")\n",
    "elif(n==3):\n",
    "    print(\"today is tuesady\")\n",
    "elif(n==4):\n",
    "    print(\"today is wednesday\")\n",
    "elif(n==5):\n",
    "    print(\"today is thursday\")\n",
    "elif(n==6):\n",
    "    print(\"today is friday\")\n",
    "elif(n==7):\n",
    "    print(\"today is saturday\")\n",
    "else:\n",
    "    print(\"invalid n.o\")\n",
    "\n",
    "\n",
    "\n",
    "\n",
    "\n"
   ]
  },
  {
   "cell_type": "code",
   "execution_count": 6,
   "metadata": {},
   "outputs": [
    {
     "name": "stdout",
     "output_type": "stream",
     "text": [
      "12 is not a 3-digit number\n"
     ]
    }
   ],
   "source": [
    "# 4.  Write a program to check a number is 3 digited number or not.\n",
    "n=int(input(\"enter the number\"))\n",
    "if(n>99 and n<=999):\n",
    "    print(n,\"is a 3-digit number\")\n",
    "else:\n",
    "    print(n,\"is not a 3-digit number\")"
   ]
  },
  {
   "cell_type": "code",
   "execution_count": 8,
   "metadata": {},
   "outputs": [
    {
     "name": "stdout",
     "output_type": "stream",
     "text": [
      "he/she is a senior citizen\n"
     ]
    }
   ],
   "source": [
    "# 5.  write a program to check wheater a person seriour citizen or not (example take a input(\"enter a age: \"))\n",
    "\n",
    "age=int(input(\"enter the age\"))\n",
    "if(age>=60):\n",
    "    print(\"he/she is a senior citizen\")\n",
    "else:\n",
    "    print(\"he/she is not a senior citizen\")\n",
    "\n",
    "\n",
    "\n"
   ]
  },
  {
   "cell_type": "code",
   "execution_count": 10,
   "metadata": {},
   "outputs": [
    {
     "name": "stdout",
     "output_type": "stream",
     "text": [
      "first n.o is less than second n.o 12 < 13\n"
     ]
    }
   ],
   "source": [
    "#6.  write a programe to find the lowest number out of two numbers excepted from user.\n",
    "n1=int(input(\"enter the first number\"))\n",
    "n2=int(input(\"enter the second number\"))\n",
    "if(n1>n2):\n",
    "    print(\"first n.o is greater than second n.o\",n1,\">\",n2)\n",
    "else:\n",
    "    print(\"first n.o is less than second n.o\",n1,\"<\",n2)\n",
    "\n",
    "\n",
    "\n"
   ]
  },
  {
   "cell_type": "code",
   "execution_count": 12,
   "metadata": {},
   "outputs": [
    {
     "name": "stdout",
     "output_type": "stream",
     "text": [
      "-4 is a negative n.o\n"
     ]
    }
   ],
   "source": [
    "# 7.  Write a program to check a number is positive or not.\n",
    "\n",
    "n=int(input(\"enter the number\"))\n",
    "if(n>=0):\n",
    "    print(n,\"is a postive n.o\")\n",
    "elif(n<0):\n",
    "    print(n,\"is a negative n.o\")\n",
    "else:\n",
    "    print(n,\"is not a number\")"
   ]
  },
  {
   "cell_type": "code",
   "execution_count": 18,
   "metadata": {},
   "outputs": [
    {
     "name": "stdout",
     "output_type": "stream",
     "text": [
      "21 is only divisible by 3\n"
     ]
    }
   ],
   "source": [
    "# 8.  write a program to wheater a number (accepted from user) is divisible by 2 and 3 both.\n",
    "\n",
    "n=int(input(\"enter the n.o\"))\n",
    "if(n%2==0 and n%3 ==0):\n",
    "    print(n,\"is divible by both 2 & 3\")\n",
    "elif(n%2==0):\n",
    "    print(n,\"is only divisible by 2\")\n",
    "elif(n%3==0):\n",
    "    print(n,\"is only divisible by 3\")\n",
    "else:\n",
    "    print(n,\"is not divisible by both 2 and 3\")\n",
    "\n",
    "\n",
    "\n"
   ]
  },
  {
   "cell_type": "code",
   "execution_count": 22,
   "metadata": {},
   "outputs": [
    {
     "name": "stdout",
     "output_type": "stream",
     "text": [
      "1 2 3\n",
      "3 is the largest n.o of the three\n"
     ]
    }
   ],
   "source": [
    "# 9.  write a program to find the largest number out of three input number excepted by user.\n",
    "p1=int(input(\"enter  p1\"))\n",
    "p2=int(input(\"enter  p2\"))\n",
    "p3=int(input(\"enter p3\"))\n",
    "print(p1,p2,p3)\n",
    "if(p1>p2 and p1>p3):\n",
    "    print(p1,\"is the largest n.o of the three\")\n",
    "elif(p2>p1 and p2>p3):\n",
    "    print(p2, \"is the largest n.o of the three\")\n",
    "else:\n",
    "    print(p3, \"is the largest n.o of the three\")\n",
    "    "
   ]
  },
  {
   "cell_type": "code",
   "execution_count": 24,
   "metadata": {},
   "outputs": [
    {
     "name": "stdout",
     "output_type": "stream",
     "text": [
      "you got 'B' grade\n"
     ]
    }
   ],
   "source": [
    "# 10. school grading system. \n",
    "\n",
    "marks=int(input(\"enter your marks\"))                          \n",
    "if(marks>=80):\n",
    "    print(\"you got 'A' grade\")\n",
    "elif(marks>=60 and marks<80):\n",
    "    print(\"you got 'B' grade\")\n",
    "elif(marks>=50 and marks<60):\n",
    "    print(\"you got 'c' grade\")\n",
    "elif(marks>=45 and marks<50):\n",
    "    print(\"you got 'D' grade\")\n",
    "elif(marks<25):\n",
    "    print(\"you have failed\")\n",
    "else:\n",
    "    print(\"invalid\")\n",
    "    "
   ]
  },
  {
   "cell_type": "code",
   "execution_count": 5,
   "metadata": {},
   "outputs": [
    {
     "name": "stdout",
     "output_type": "stream",
     "text": [
      "41.66666666666667 %\n",
      "you are not allowed to take the exam!!!\n"
     ]
    }
   ],
   "source": [
    "# 11. exam--75%\n",
    "no_classes_held=int(input(\"enter the n.o of classes held\"))\n",
    "no_classes_attended=int(input(\"enter the n.o of classes attended\"))\n",
    "attendance_percentage= (no_classes_attended/float(no_classes_held))*100\n",
    "print(attendance_percentage,\"%\")\n",
    "if(attendance_percentage>=75):\n",
    "    print(\"**you are allowed to thake the exam**\")\n",
    "else:\n",
    "    print(\"you are not allowed to take the exam!!!\")"
   ]
  },
  {
   "cell_type": "code",
   "execution_count": null,
   "metadata": {},
   "outputs": [],
   "source": []
  }
 ],
 "metadata": {
  "kernelspec": {
   "display_name": "Python 3",
   "language": "python",
   "name": "python3"
  },
  "language_info": {
   "codemirror_mode": {
    "name": "ipython",
    "version": 3
   },
   "file_extension": ".py",
   "mimetype": "text/x-python",
   "name": "python",
   "nbconvert_exporter": "python",
   "pygments_lexer": "ipython3",
   "version": "3.10.10"
  },
  "orig_nbformat": 4
 },
 "nbformat": 4,
 "nbformat_minor": 2
}
