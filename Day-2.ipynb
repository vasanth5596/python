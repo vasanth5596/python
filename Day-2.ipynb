{
 "cells": [
  {
   "cell_type": "code",
   "execution_count": 5,
   "metadata": {},
   "outputs": [
    {
     "name": "stdout",
     "output_type": "stream",
     "text": [
      "the addition of a and b is 35\n",
      "the subtraction of a and b is 25\n",
      "the multiplication of a and b is 150\n",
      "the division (quotient) of a and b is 6.0\n",
      "the remainder of a and b is 0\n",
      "the exponentiation of a and b is 24300000\n",
      "the floor quotient of a and b is 6\n"
     ]
    }
   ],
   "source": [
    "#arthematic operators\n",
    "\n",
    "#+,-,*,/ (quotient),% (remainder), ** (power or exponentiation), // (floor quotient (or) it gives only real part of the quotient )\n",
    "\n",
    "a=int(input(\"enter the value of a \"))\n",
    "b=int(input(\"enter the value of b \"))\n",
    "\n",
    "print(\"the addition of a and b is\", a+b)\n",
    "print(\"the subtraction of a and b is\", a-b)\n",
    "print(\"the multiplication of a and b is\", a*b)\n",
    "print(\"the division (quotient) of a and b is\", a/b)\n",
    "print(\"the remainder of a and b is\", a%b)\n",
    "print(\"the exponentiation of a and b is\", a**b)\n",
    "print(\"the floor quotient of a and b is\", a//b)"
   ]
  },
  {
   "cell_type": "code",
   "execution_count": 18,
   "metadata": {},
   "outputs": [
    {
     "name": "stdout",
     "output_type": "stream",
     "text": [
      "5\n",
      "3\n",
      "6\n",
      "3.0\n",
      "1.0\n",
      "1.0\n",
      "0.0\n"
     ]
    }
   ],
   "source": [
    "#assaigment operator\n",
    "#==,+=,-=,*=,/=,%=,**=,//=        After doing the operation it assaigns the value to the operand again.\n",
    "\n",
    "a=int(input(\"enter the value of a \"))\n",
    "b=int(input(\"enter the value of b \"))\n",
    "\n",
    "a+=b   #=> a=a+b\n",
    "print(a)\n",
    "a-=b \n",
    "print(a)\n",
    "a*=b\n",
    "print(a)\n",
    "a/=b\n",
    "print(a)\n",
    "a%=b\n",
    "print(a)\n",
    "a**=b\n",
    "print(a)\n",
    "a//=b\n",
    "print(a)\n",
    "\n",
    "\n",
    "\n"
   ]
  },
  {
   "cell_type": "code",
   "execution_count": 34,
   "metadata": {},
   "outputs": [
    {
     "name": "stdout",
     "output_type": "stream",
     "text": [
      "a is greater than b\n"
     ]
    }
   ],
   "source": [
    "#comparision operator\n",
    "#>,>=,<,<=,==,!=\n",
    "#returns true or false\n",
    "a=int(input(\"enter the value of a \"))\n",
    "b=int(input(\"enter the value of b \"))\n",
    "\n",
    "if(a>b):\n",
    "    print(\"a is greater than b\")\n",
    "elif(a<b):\n",
    "    print(\"a is less than b\")\n",
    "elif(a>=b):\n",
    "    print(\"a is greater than or equal to b\")\n",
    "elif(a<=b):\n",
    "    print(\"a is less than or equal to b\")\n",
    "elif(a==b):\n",
    "    print(\"a is equal to b\")\n",
    "elif(a!=b):\n",
    "    print(\"a is not equal to b\")\n",
    "\n",
    "\n",
    "\n"
   ]
  },
  {
   "cell_type": "code",
   "execution_count": 39,
   "metadata": {},
   "outputs": [
    {
     "name": "stdout",
     "output_type": "stream",
     "text": [
      "0b100\n",
      "0b101\n",
      "the bitwise AND of a,b is 4\n",
      "the bitwise OR of a,b is 5\n",
      "the bitwise XOR of a,b is 1\n",
      "the bitwise negation of a,b is -5\n",
      "the bitwise left shift of a is 8\n",
      "the bitwise right shift of a is 2\n"
     ]
    }
   ],
   "source": [
    "#bitwise operator\n",
    "#based on binary values  nd  returns decimal again\n",
    "# &(binary AND), |(binary OR), ^(binary XOR),~ (binary negation), <<(left shift),>>(right shift)\n",
    "\n",
    "a=4 #0100\n",
    "b=5 #0101\n",
    "print(bin(a))\n",
    "print(bin(b))\n",
    "\n",
    "print(\"the bitwise AND of a,b is\",a&b)\n",
    "print(\"the bitwise OR of a,b is\",a|b)\n",
    "print(\"the bitwise XOR of a,b is\",a^b)\n",
    "print(\"the bitwise negation of a,b is\",~a)\n",
    "print(\"the bitwise left shift of a is\",a<<1)\n",
    "print(\"the bitwise right shift of a is\",a>>1)"
   ]
  },
  {
   "cell_type": "code",
   "execution_count": 3,
   "metadata": {},
   "outputs": [
    {
     "name": "stdout",
     "output_type": "stream",
     "text": [
      "better luck next time\n"
     ]
    }
   ],
   "source": [
    "#logical operator\n",
    "#AND , OR ,NOT\n",
    "\n",
    "marks=int(input(\"enter the value of a \"))\n",
    "if(marks>90 and marks<100):\n",
    "    print(\"you got 'A' grade\")\n",
    "elif(marks>=75 and marks<=90):\n",
    "    print(\"you got 'B' grade\")\n",
    "elif(not(marks>75)):\n",
    "     print(\"better luck next time\")\n",
    "else:\n",
    "    print(\"invalid\")"
   ]
  },
  {
   "cell_type": "code",
   "execution_count": 4,
   "metadata": {},
   "outputs": [
    {
     "name": "stdout",
     "output_type": "stream",
     "text": [
      "a is present in the list\n"
     ]
    }
   ],
   "source": [
    "#membership operator\n",
    "# in ,not in\n",
    "\n",
    "a=int(input(\"enter the value of a \"))\n",
    "list=[1,2,3,4]\n",
    "\"\"\"\n",
    "if(a in list):\n",
    "    print(\"a is present in the list\")\n",
    "else:\n",
    "   print(\"a is not in the list\")\n",
    "\"\"\"\n",
    "\n",
    "\n",
    "if(a not in list):\n",
    "    print(\"a is not present in the list\")\n",
    "else:\n",
    "   print(\"a is present in the list\")"
   ]
  },
  {
   "cell_type": "code",
   "execution_count": 66,
   "metadata": {},
   "outputs": [
    {
     "name": "stdout",
     "output_type": "stream",
     "text": [
      "both are similar\n"
     ]
    }
   ],
   "source": [
    "#identity operators\n",
    "# is , is not\n",
    "\n",
    "a=34\n",
    "b=34\n",
    "\"\"\"\n",
    "if(a is b):\n",
    "    print(\"both are similar\")\n",
    "\"\"\"\n",
    "if(a is not b):\n",
    "    print(\"they are different\")\n",
    "else:\n",
    "    print(\"both are similar\")\n"
   ]
  }
 ],
 "metadata": {
  "kernelspec": {
   "display_name": "Python 3",
   "language": "python",
   "name": "python3"
  },
  "language_info": {
   "codemirror_mode": {
    "name": "ipython",
    "version": 3
   },
   "file_extension": ".py",
   "mimetype": "text/x-python",
   "name": "python",
   "nbconvert_exporter": "python",
   "pygments_lexer": "ipython3",
   "version": "3.10.10"
  },
  "orig_nbformat": 4,
  "vscode": {
   "interpreter": {
    "hash": "2539afa28237424c50a7c2dfc5e2669e8fc966c57afacedf0491a5c350f92531"
   }
  }
 },
 "nbformat": 4,
 "nbformat_minor": 2
}
