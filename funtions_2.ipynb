{
 "cells": [
  {
   "cell_type": "code",
   "execution_count": 1,
   "metadata": {},
   "outputs": [
    {
     "name": "stdout",
     "output_type": "stream",
     "text": [
      "The arguments are : 1 2 3 4 5 k: 120\n"
     ]
    }
   ],
   "source": [
    "# *args---multiple arguments can be given at a time\n",
    "\n",
    "def fun2(*p,k):\n",
    "    prod=1\n",
    "    for i in p:\n",
    "        prod*= i\n",
    "    print(\"The arguments are :\",*p,\"k:\",prod)\n",
    "fun2(1,2,3,4,5,k=1)"
   ]
  },
  {
   "cell_type": "code",
   "execution_count": 2,
   "metadata": {},
   "outputs": [
    {
     "name": "stdout",
     "output_type": "stream",
     "text": [
      "Sum: 156\n"
     ]
    }
   ],
   "source": [
    "def add(*num):\n",
    "    sum = 0\n",
    "    \n",
    "    for n in num:\n",
    "        sum = sum + n\n",
    "\n",
    "    print(\"Sum:\",sum)\n",
    "add(12,45,23,56,20)"
   ]
  },
  {
   "cell_type": "code",
   "execution_count": 6,
   "metadata": {},
   "outputs": [
    {
     "name": "stdout",
     "output_type": "stream",
     "text": [
      "Required argument: Hello\n",
      "Sum of integers in lists: 45\n"
     ]
    }
   ],
   "source": [
    "def print_arguments(required_arg, *args):\n",
    "    print(f\"Required argument: {required_arg}\")\n",
    "    total = 0\n",
    "    for arg in args:\n",
    "        total += sum(arg)\n",
    "    print(f\"Sum of integers in lists: {total}\")\n",
    "        \n",
    "# Example usage\n",
    "print_arguments(\"Hello\", [1, 2, 3], [4, 5, 6], [7, 8, 9])\n"
   ]
  },
  {
   "cell_type": "code",
   "execution_count": 21,
   "metadata": {},
   "outputs": [
    {
     "name": "stdout",
     "output_type": "stream",
     "text": [
      "2\n",
      "4\n",
      "6\n"
     ]
    }
   ],
   "source": [
    "def print_arguments(is_even, *args):\n",
    "    for i in args:\n",
    "        if is_even(i):\n",
    "            print(i)\n",
    "\n",
    "def is_even(num):\n",
    "    return num % 2 == 0\n",
    "\n",
    "print_arguments(is_even, 1, 2, 3, 4, 5, 6)"
   ]
  },
  {
   "cell_type": "code",
   "execution_count": 15,
   "metadata": {},
   "outputs": [
    {
     "name": "stdout",
     "output_type": "stream",
     "text": [
      "18\n"
     ]
    }
   ],
   "source": [
    "def fun4(r1,*k):\n",
    "    total=0\n",
    "    for i in k:\n",
    "        total +=sum(i)\n",
    "    print(total)\n",
    " \n",
    "fun4(\"pyhton\",[1,2,3],[3,4,5])"
   ]
  },
  {
   "cell_type": "code",
   "execution_count": 3,
   "metadata": {},
   "outputs": [
    {
     "name": "stdout",
     "output_type": "stream",
     "text": [
      "Data type of argument:\n",
      "Firstname is John\n",
      "Lastname is Wood\n",
      "Email is johnwood@nomail.com\n",
      "Country is Wakanda\n",
      "Age is 25\n",
      "Phone is 9876543210\n"
     ]
    }
   ],
   "source": [
    "# **kwargs----multiple keyword arguments can be given at a time\n",
    "\n",
    "\n",
    "def intro(**data):\n",
    "    print(\"Data type of argument:\")\n",
    "\n",
    "    for key, value in data.items():\n",
    "        print(\"{} is {}\".format(key,value))\n",
    "\n",
    "intro(Firstname=\"John\", Lastname=\"Wood\", Email=\"johnwood@nomail.com\", Country=\"Wakanda\", Age=25, Phone=9876543210)"
   ]
  },
  {
   "cell_type": "code",
   "execution_count": 4,
   "metadata": {},
   "outputs": [
    {
     "name": "stdout",
     "output_type": "stream",
     "text": [
      "Hello\n",
      "apple\n",
      "banana\n",
      "cherry\n",
      "fig\n",
      "grape\n"
     ]
    }
   ],
   "source": [
    "# **kwargs----multiple keyword arguments can be given at a time\n",
    "\n",
    "def print_arguments(required_arg, **kwargs):\n",
    "    print(required_arg)\n",
    "    for arg_list in kwargs.values():\n",
    "        for arg in sorted(arg_list):\n",
    "            print(arg)\n",
    "\n",
    "print_arguments(\"Hello\", list1=[\"apple\", \"banana\", \"cherry\"], list2=[\"grape\", \"fig\"])"
   ]
  },
  {
   "cell_type": "code",
   "execution_count": null,
   "metadata": {},
   "outputs": [],
   "source": [
    "def print_arguments(arg1, arg2, **kwargs):\n",
    "    if kwargs.get('bool1'):\n",
    "        print(arg1)\n",
    "    if kwargs.get('bool2'):\n",
    "        print(arg2)\n",
    "    if kwargs.get('bool3'):\n",
    "        print(kwargs.get('arg3'))\n",
    "\n",
    "print_arguments(\"Hello\", \"world\", bool1=True, bool3=True, arg3=\"Python\")\n"
   ]
  }
 ],
 "metadata": {
  "kernelspec": {
   "display_name": "Python 3",
   "language": "python",
   "name": "python3"
  },
  "language_info": {
   "codemirror_mode": {
    "name": "ipython",
    "version": 3
   },
   "file_extension": ".py",
   "mimetype": "text/x-python",
   "name": "python",
   "nbconvert_exporter": "python",
   "pygments_lexer": "ipython3",
   "version": "3.10.10"
  },
  "orig_nbformat": 4
 },
 "nbformat": 4,
 "nbformat_minor": 2
}
