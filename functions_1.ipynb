{
 "cells": [
  {
   "cell_type": "code",
   "execution_count": null,
   "metadata": {},
   "outputs": [],
   "source": [
    "functions ---\n",
    "  default arguments\n",
    "  keyword arguments\n",
    "  positional arguments\n",
    "  *args argumnets\n",
    "  **kwargs arguments\n"
   ]
  },
  {
   "cell_type": "code",
   "execution_count": 6,
   "metadata": {},
   "outputs": [
    {
     "name": "stdout",
     "output_type": "stream",
     "text": [
      "4\n",
      "8\n"
     ]
    }
   ],
   "source": [
    "def fun(a,b=2):      # b is default argument\n",
    "    c=a*b\n",
    "    print(c)\n",
    "fun(2)              # only a is given\n",
    "fun(2,4)           # if any parameter is given then b gets changed"
   ]
  },
  {
   "cell_type": "code",
   "execution_count": 7,
   "metadata": {},
   "outputs": [
    {
     "name": "stdout",
     "output_type": "stream",
     "text": [
      "6\n"
     ]
    }
   ],
   "source": [
    "def fun(a,b):      \n",
    "    c=a*b\n",
    "    print(c)\n",
    "fun(b=3,a=2)             # here a,b are keyword arguments"
   ]
  },
  {
   "cell_type": "code",
   "execution_count": 8,
   "metadata": {},
   "outputs": [
    {
     "name": "stdout",
     "output_type": "stream",
     "text": [
      "8\n"
     ]
    }
   ],
   "source": [
    "def fun(a,b):     \n",
    "    c=a*b\n",
    "    print(c)\n",
    "fun(2,4)              # a takes 2 nd b takes 4 as a postional arguments "
   ]
  },
  {
   "cell_type": "code",
   "execution_count": 1,
   "metadata": {},
   "outputs": [
    {
     "name": "stdout",
     "output_type": "stream",
     "text": [
      "mom is a palindrome\n"
     ]
    }
   ],
   "source": [
    "string=input(\"\")\n",
    "\n",
    "def palindrome(str):\n",
    "    if(str==str[::-1]):\n",
    "        print(str,\"is a palindrome\")\n",
    "    else:\n",
    "        print(str,\"is not a palindrome\")\n",
    "        \n",
    "palindrome(string)"
   ]
  },
  {
   "cell_type": "code",
   "execution_count": null,
   "metadata": {},
   "outputs": [],
   "source": [
    "# Write a function that takes a list of numbers as input and returns the sum of all the even numbers in the list.\n",
    "\n",
    "list=[]\n",
    "for i in range(5):\n",
    "    x=int(input(\"\"))\n",
    "    list.append(x)\n",
    "print(list) \n",
    "\n",
    "def even_list(l):\n",
    "    sum=0\n",
    "    for i in list:\n",
    "        if(i%2==0):\n",
    "            sum+=i\n",
    "    print(\"the sum of even n.o's is : \",sum)\n",
    "\n",
    "even_list(list)"
   ]
  },
  {
   "cell_type": "code",
   "execution_count": 2,
   "metadata": {},
   "outputs": [
    {
     "name": "stdout",
     "output_type": "stream",
     "text": [
      "second largest n.o 56\n"
     ]
    }
   ],
   "source": [
    "# second largegst n.o in the list\n",
    "list=[23,45,12,6,72,56]\n",
    "\n",
    "def sec_l(l):\n",
    "    l.sort()\n",
    "    print(\"second largest n.o\",l[-2])\n",
    "    \n",
    "sec_l(list)"
   ]
  },
  {
   "cell_type": "code",
   "execution_count": 9,
   "metadata": {},
   "outputs": [
    {
     "name": "stdout",
     "output_type": "stream",
     "text": [
      "longest string in the list:  app\n"
     ]
    }
   ],
   "source": [
    "# longest string\n",
    "\n",
    "list1=[\"hi\",\"ac\",\"app\"]\n",
    "\n",
    "def long_str(l):\n",
    "    k=\"\"\n",
    "    for i in range(len(l)):\n",
    "        if len(l[i])>len(k):\n",
    "            k=l[i]\n",
    "    print(\"longest string in the list: \",k)\n",
    "    \n",
    "long_str(list1)"
   ]
  },
  {
   "cell_type": "code",
   "execution_count": 19,
   "metadata": {},
   "outputs": [
    {
     "name": "stdout",
     "output_type": "stream",
     "text": [
      "The arguments are : 1 2 3 4 5 k: 120\n"
     ]
    }
   ],
   "source": [
    "# *args---multiple arguments can be given at a time\n",
    "\n",
    "def fun2(*p,k):\n",
    "    prod=1\n",
    "    for i in p:\n",
    "        prod*= i\n",
    "    print(\"The arguments are :\",*p,\"k:\",prod)\n",
    "fun2(1,2,3,4,5,k=1)"
   ]
  },
  {
   "cell_type": "code",
   "execution_count": 21,
   "metadata": {},
   "outputs": [
    {
     "name": "stdout",
     "output_type": "stream",
     "text": [
      "Sum: 156\n"
     ]
    }
   ],
   "source": [
    "def add(*num):\n",
    "    sum = 0\n",
    "    \n",
    "    for n in num:\n",
    "        sum = sum + n\n",
    "\n",
    "    print(\"Sum:\",sum)\n",
    "add(12,45,23,56,20)"
   ]
  },
  {
   "cell_type": "code",
   "execution_count": 25,
   "metadata": {},
   "outputs": [
    {
     "name": "stdout",
     "output_type": "stream",
     "text": [
      "Data type of argument:\n",
      "Firstname is John\n",
      "Lastname is Wood\n",
      "Email is johnwood@nomail.com\n",
      "Country is Wakanda\n",
      "Age is 25\n",
      "Phone is 9876543210\n"
     ]
    }
   ],
   "source": [
    "# **kwargs----multiple keyword arguments can be given at a time\n",
    "\n",
    "\n",
    "def intro(**data):\n",
    "    print(\"Data type of argument:\")\n",
    "\n",
    "    for key, value in data.items():\n",
    "        print(\"{} is {}\".format(key,value))\n",
    "\n",
    "intro(Firstname=\"John\", Lastname=\"Wood\", Email=\"johnwood@nomail.com\", Country=\"Wakanda\", Age=25, Phone=9876543210)"
   ]
  },
  {
   "cell_type": "code",
   "execution_count": 22,
   "metadata": {},
   "outputs": [
    {
     "name": "stdout",
     "output_type": "stream",
     "text": [
      "Hello\n",
      "apple\n",
      "banana\n",
      "cherry\n",
      "fig\n",
      "grape\n"
     ]
    }
   ],
   "source": [
    "# **kwargs----multiple keyword arguments can be given at a time\n",
    "\n",
    "def print_arguments(required_arg, **kwargs):\n",
    "    print(required_arg)\n",
    "    for arg_list in kwargs.values():\n",
    "        for arg in sorted(arg_list):\n",
    "            print(arg)\n",
    "\n",
    "print_arguments(\"Hello\", list1=[\"apple\", \"banana\", \"cherry\"], list2=[\"grape\", \"fig\"])\n"
   ]
  },
  {
   "cell_type": "code",
   "execution_count": 27,
   "metadata": {},
   "outputs": [
    {
     "name": "stdout",
     "output_type": "stream",
     "text": [
      "20\n"
     ]
    }
   ],
   "source": [
    "def total_fruits(**fruits):\n",
    "    total = 0\n",
    "    for amount in fruits.values():\n",
    "        total += amount\n",
    "    return total\n",
    "\n",
    "print(total_fruits(banana=5, mango=7, apple=8))"
   ]
  },
  {
   "cell_type": "code",
   "execution_count": 26,
   "metadata": {},
   "outputs": [
    {
     "name": "stdout",
     "output_type": "stream",
     "text": [
      "one two three\n"
     ]
    }
   ],
   "source": [
    "def my_three(a, b, c):\n",
    "    print(a, b, c)\n",
    "\n",
    "a = {'a': \"one\", 'b': \"two\", 'c': \"three\" }\n",
    "my_three(**a)"
   ]
  },
  {
   "cell_type": "code",
   "execution_count": null,
   "metadata": {},
   "outputs": [],
   "source": []
  }
 ],
 "metadata": {
  "kernelspec": {
   "display_name": "Python 3",
   "language": "python",
   "name": "python3"
  },
  "language_info": {
   "codemirror_mode": {
    "name": "ipython",
    "version": 3
   },
   "file_extension": ".py",
   "mimetype": "text/x-python",
   "name": "python",
   "nbconvert_exporter": "python",
   "pygments_lexer": "ipython3",
   "version": "3.10.10"
  },
  "orig_nbformat": 4
 },
 "nbformat": 4,
 "nbformat_minor": 2
}
