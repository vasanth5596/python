{
 "cells": [
  {
   "cell_type": "code",
   "execution_count": 1,
   "metadata": {},
   "outputs": [
    {
     "name": "stdout",
     "output_type": "stream",
     "text": [
      "hello and welcome to pss \n"
     ]
    }
   ],
   "source": [
    "print(\"hello and welcome to pss \")"
   ]
  },
  {
   "cell_type": "code",
   "execution_count": 8,
   "metadata": {},
   "outputs": [
    {
     "name": "stdout",
     "output_type": "stream",
     "text": [
      "welcome vasanth to pss python\n"
     ]
    }
   ],
   "source": [
    "name=str(input(\"entr your name\"))\n",
    "domain=str(input(\"enter your domain \"))\n",
    "print(\"welcome \"+ name+ \" to pss \"+ domain)\n"
   ]
  },
  {
   "cell_type": "code",
   "execution_count": 2,
   "metadata": {},
   "outputs": [
    {
     "name": "stdout",
     "output_type": "stream",
     "text": [
      "**welcome to pss** vasanth\n",
      " your domain is  python\n",
      "--->go to system number 321\n"
     ]
    }
   ],
   "source": [
    "def system_alloc():\n",
    "    name=str(input(\"entr your name\"))\n",
    "    domain=str(input(\"enter your domain \"))\n",
    "    sys_no=int(input(\"entr your system number\"))\n",
    "    print(\"**welcome to pss** \"+ name + \"\\n\" +\"your domain is  \"+ domain+\"\\n\"+ \"--->go to system number \"+str(sys_no))\n",
    "system_alloc()\n"
   ]
  },
  {
   "cell_type": "code",
   "execution_count": 6,
   "metadata": {},
   "outputs": [
    {
     "name": "stdout",
     "output_type": "stream",
     "text": [
      "single line string\n",
      "a string with \n",
      "multiple lines\n",
      "line-1\n",
      "line-2\n",
      "line-3\n"
     ]
    }
   ],
   "source": [
    "#program to print a string with multiple lines\n",
    "str1=\"single line string\"\n",
    "str2='''a string with \n",
    "multiple lines\n",
    "line-1\n",
    "line-2\n",
    "line-3'''\n",
    "print(str1)\n",
    "print(str2)\n"
   ]
  },
  {
   "cell_type": "code",
   "execution_count": 44,
   "metadata": {},
   "outputs": [
    {
     "name": "stdout",
     "output_type": "stream",
     "text": [
      "18\n",
      "python programming\n",
      "pyt\n",
      "pto rga\n",
      "g\n",
      "python programmin\n",
      "gnimmargorp nohtyp\n",
      "python programmingpython programmingpython programming\n",
      "python programmingpython programming\n",
      "False\n",
      "False\n",
      "python programming\n",
      "PYTHON PROGRAMMING\n",
      "Python programming\n",
      "Python Programming\n",
      "['python', 'programming']\n",
      "2\n"
     ]
    }
   ],
   "source": [
    "#string slicing\n",
    "str=\"python programming\"\n",
    "\n",
    "#print(str[start:stop:step])\n",
    "\n",
    "print(len(str))\n",
    "print(str[ : ])\n",
    "print(str[0:3])\n",
    "print(str[0:14:2])\n",
    "print(str[-1])\n",
    "print(str[0:-1])\n",
    "print(str[::-1])   # print in reverse\n",
    "print(str*3)\n",
    "print(str+str)\n",
    "print(str.isalnum())\n",
    "print(str.isalpha())          # false - bcz space is there in the string\n",
    "print(str.lower())\n",
    "print(str.upper())\n",
    "print(str.capitalize())         # capitalize only first letter \n",
    "print(str.title())           # capitailize first letters of all words\n",
    "print(str.split(\" \"))\n",
    "print(str.count('p'))"
   ]
  },
  {
   "cell_type": "code",
   "execution_count": 55,
   "metadata": {},
   "outputs": [
    {
     "name": "stdout",
     "output_type": "stream",
     "text": [
      "[10, 20, 'python', 40]\n",
      "10\n",
      "python\n",
      "40\n",
      "[10, 20, 'python']\n",
      "h\n",
      "[10, 20, 'python', 50]\n"
     ]
    }
   ],
   "source": [
    "#lists\n",
    "# mutable,[ ]\n",
    "list1=[10,20,\"python\",40]\n",
    "print(list1)\n",
    "print(list1[0])\n",
    "print(list1[2])\n",
    "print(list1[-1])\n",
    "print(list1[0:3])   \n",
    "print(list1[2][3])\n",
    "\n",
    " #to change the elements in the list\n",
    "list1[3]=50        \n",
    "print(list1)\n",
    "\n",
    "#to add an elemnent into the list\n",
    "list1.append\n",
    "\n",
    "\n"
   ]
  }
 ],
 "metadata": {
  "kernelspec": {
   "display_name": "Python 3",
   "language": "python",
   "name": "python3"
  },
  "language_info": {
   "codemirror_mode": {
    "name": "ipython",
    "version": 3
   },
   "file_extension": ".py",
   "mimetype": "text/x-python",
   "name": "python",
   "nbconvert_exporter": "python",
   "pygments_lexer": "ipython3",
   "version": "3.10.10"
  },
  "orig_nbformat": 4,
  "vscode": {
   "interpreter": {
    "hash": "2539afa28237424c50a7c2dfc5e2669e8fc966c57afacedf0491a5c350f92531"
   }
  }
 },
 "nbformat": 4,
 "nbformat_minor": 2
}
