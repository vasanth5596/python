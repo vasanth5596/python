{
 "cells": [
  {
   "cell_type": "code",
   "execution_count": null,
   "metadata": {},
   "outputs": [],
   "source": [
    "# 1. Print the first 10 natural numbers using for loop.\n",
    "\n",
    "print(\"1 to 10 natural numbers are \")\n",
    "for i in range(1,11):\n",
    "    print(i)"
   ]
  },
  {
   "cell_type": "code",
   "execution_count": 1,
   "metadata": {},
   "outputs": [
    {
     "name": "stdout",
     "output_type": "stream",
     "text": [
      "6 x 1 = 6\n",
      "6 x 2 = 12\n",
      "6 x 3 = 18\n",
      "6 x 4 = 24\n",
      "6 x 5 = 30\n",
      "6 x 6 = 36\n",
      "6 x 7 = 42\n",
      "6 x 8 = 48\n",
      "6 x 9 = 54\n",
      "6 x 10 = 60\n"
     ]
    }
   ],
   "source": [
    "# 2. print a multiplication table of a given number (given number is 6).\n",
    "n=6\n",
    "for i in range(1,11):\n",
    "    print(n,'x', i, '=', n*i)"
   ]
  },
  {
   "cell_type": "code",
   "execution_count": 4,
   "metadata": {},
   "outputs": [
    {
     "name": "stdout",
     "output_type": "stream",
     "text": [
      "vasanth\n",
      "veeresh\n",
      "kishore\n",
      "satya\n"
     ]
    }
   ],
   "source": [
    "#3. write a programe to display names from a list using for loop\n",
    "\n",
    "list=[\"vasanth\",\"veeresh\",\"kishore\",\"satya\"]\n",
    "for i in list:\n",
    "    print(i)\n"
   ]
  },
  {
   "cell_type": "code",
   "execution_count": 29,
   "metadata": {},
   "outputs": [
    {
     "name": "stdout",
     "output_type": "stream",
     "text": [
      "jan has 31 days\n",
      "feb has 28/29 days\n",
      "mar has 31 days\n",
      "march has 30 days \n",
      "may has 31 days\n",
      "march has 30 days \n",
      "july has 31 days\n",
      "aug has 31 days\n",
      "march has 30 days \n",
      "oct has 31 days\n",
      "march has 30 days \n",
      "dec has 31 days\n"
     ]
    }
   ],
   "source": [
    "# 4. months days\n",
    "\n",
    "m=[\"jan\",\"feb\",\"mar\",\"april\",\"may\",\"june\",\"july\",\"aug\",\"sep\",\"oct\",\"nov\",\"dec\"]\n",
    "for i in  m:\n",
    "    if i in [\"jan\",\"mar\",\"may\",\"july\",\"aug\",\"oct\",\"dec\"]:print(i,\"has 31 days\")\n",
    "    elif i in [\"feb\"]:print(\"feb has 28/29 days\")\n",
    "    elif i in [\"april\",\"june\",\"sep\",\"nov\"]:print(\"march has 30 days \")\n",
    "    \n",
    "  \n",
    "    "
   ]
  },
  {
   "cell_type": "code",
   "execution_count": 5,
   "metadata": {},
   "outputs": [
    {
     "name": "stdout",
     "output_type": "stream",
     "text": [
      "5 4 3 2 1 \n",
      "4 3 2 1 \n",
      "3 2 1 \n",
      "2 1 \n",
      "1 \n"
     ]
    }
   ],
   "source": [
    "# 5. reverse number pattern\n",
    "\n",
    "for r in range(5,0,-1):\n",
    "    for c in range(r,0,-1):\n",
    "        print(c,end=\" \")        \n",
    "    print()"
   ]
  },
  {
   "cell_type": "code",
   "execution_count": 6,
   "metadata": {},
   "outputs": [
    {
     "name": "stdout",
     "output_type": "stream",
     "text": [
      "-10 -9 -8 -7 -6 -5 -4 -3 -2 -1 "
     ]
    }
   ],
   "source": [
    "#  6. Display numbers from -10 to -1 using for loop.\n",
    "\n",
    "for i in range(-10,0):\n",
    "    print(i,end=\" \")"
   ]
  },
  {
   "cell_type": "code",
   "execution_count": 7,
   "metadata": {},
   "outputs": [
    {
     "name": "stdout",
     "output_type": "stream",
     "text": [
      "[<class 'int'>, <class 'str'>, <class 'float'>]\n"
     ]
    }
   ],
   "source": [
    "#  7. Write a program that appends the types of elements into a empty list x=[] take another list n=[\"20\", \"python\", \"33.98\"] and use loop.\n",
    "\n",
    "x=[]\n",
    "n=[20, \"python\", 33.98]\n",
    "for i in n:\n",
    "    a=type(i)\n",
    "    x.append(a) \n",
    "print(x)"
   ]
  },
  {
   "cell_type": "code",
   "execution_count": 3,
   "metadata": {},
   "outputs": [
    {
     "name": "stdout",
     "output_type": "stream",
     "text": [
      "     * \n",
      "    * * \n",
      "   * * * \n",
      "  * * * * \n",
      " * * * * * \n",
      "* * * * * * \n"
     ]
    }
   ],
   "source": [
    "#  8. take a input number from user and print stars in trangle shape\n",
    "\n",
    "n=int(input(\"enter n.o of rows\"))\n",
    "for i in range(1,n+1):\n",
    "    space=\" \"*(n-i)\n",
    "    star=\"* \"*i\n",
    "    result=space+star\n",
    "    print(result)"
   ]
  },
  {
   "cell_type": "code",
   "execution_count": 9,
   "metadata": {},
   "outputs": [
    {
     "name": "stdout",
     "output_type": "stream",
     "text": [
      "[<class 'int'>, <class 'float'>, <class 'complex'>, <class 'bool'>, <class 'str'>, <class 'tuple'>, <class 'list'>, <class 'dict'>]\n"
     ]
    }
   ],
   "source": [
    "# 9. Write a Python program that prints each item and its corresponding type from the following list.\n",
    "# example:-- datalist = [1452, 11.23, 1+2j, True, 'w3resource', (0, -1), [5, 12], {\"class\":'V', \"section\":'A'}\n",
    "\n",
    "x=[]\n",
    "n = [1452, 11.23, 1+2j, True, 'w3resource', (0, -1), [5, 12], {\"class\":'V', \"section\":'A'}]\n",
    "for i in n:\n",
    "    a=type(i)\n",
    "    x.append(a) \n",
    "print(x)"
   ]
  },
  {
   "cell_type": "code",
   "execution_count": 5,
   "metadata": {},
   "outputs": [
    {
     "name": "stdout",
     "output_type": "stream",
     "text": [
      "[2, 3, 6]\n",
      "['0b10', '0b11', '0b110']\n"
     ]
    }
   ],
   "source": [
    "# 10. write a programe to accept decimal number and display its binary number.\n",
    "list=[]\n",
    "for i in range(3):\n",
    "    x=int(input(\"\"))\n",
    "    list.append(x)\n",
    "print(list)\n",
    "\n",
    "bin_list=[]\n",
    "for i in list:\n",
    "    b=bin(i)\n",
    "    bin_list.append(b)\n",
    "    i+=1\n",
    "print(bin_list)"
   ]
  },
  {
   "cell_type": "code",
   "execution_count": null,
   "metadata": {},
   "outputs": [],
   "source": []
  }
 ],
 "metadata": {
  "kernelspec": {
   "display_name": "base",
   "language": "python",
   "name": "python3"
  },
  "language_info": {
   "codemirror_mode": {
    "name": "ipython",
    "version": 3
   },
   "file_extension": ".py",
   "mimetype": "text/x-python",
   "name": "python",
   "nbconvert_exporter": "python",
   "pygments_lexer": "ipython3",
   "version": "3.10.10"
  },
  "orig_nbformat": 4
 },
 "nbformat": 4,
 "nbformat_minor": 2
}
