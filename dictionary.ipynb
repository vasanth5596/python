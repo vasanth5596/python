{
 "cells": [
  {
   "cell_type": "code",
   "execution_count": 17,
   "metadata": {},
   "outputs": [
    {
     "name": "stdout",
     "output_type": "stream",
     "text": [
      "15\n",
      "15.0\n",
      "\u000f\n"
     ]
    }
   ],
   "source": [
    "# type conversion\n",
    "\n",
    "i=15\n",
    "str1=str(i)                  # int--->str\n",
    "print(str1)\n",
    "\n",
    "flt1=float(i)                # int--->float\n",
    "print(flt1)\n",
    "\n",
    "char1=chr(i)\n",
    "print(char1)                  # int-->char\n"
   ]
  },
  {
   "cell_type": "code",
   "execution_count": 27,
   "metadata": {},
   "outputs": [
    {
     "name": "stdout",
     "output_type": "stream",
     "text": [
      "101\n",
      "101.0\n"
     ]
    }
   ],
   "source": [
    "str2=\"101\"\n",
    "\n",
    "int1=int(str2)                  #  str-->int\n",
    "print(int1)\n",
    "\n",
    "float1=float(str2)             # str--->float\n",
    "print(float1)\n"
   ]
  },
  {
   "cell_type": "code",
   "execution_count": 57,
   "metadata": {},
   "outputs": [
    {
     "name": "stdout",
     "output_type": "stream",
     "text": [
      "<class 'tuple'>\n",
      "(1, 2, 3, 4)\n",
      "<class 'set'>\n",
      "{1, 2, 3}\n"
     ]
    }
   ],
   "source": [
    "lst=[1,2,3,4]\n",
    "t=tuple(lst)                            # list--->tuple\n",
    "print(type(t)) \n",
    "print(t)    \n",
    "\n",
    "\"\"\"t1=(1,2,3)\n",
    "l = list (t1)                         #  tuple--->list\n",
    "print(l)\n",
    "print(type(l))\n",
    "\"\"\"\n",
    "\n",
    "\n",
    "list1=[1,1,2,2,3]\n",
    "set1=set(list1)                        # list--->set\n",
    "print(type(set1))\n",
    "print(set1)"
   ]
  },
  {
   "cell_type": "code",
   "execution_count": 78,
   "metadata": {},
   "outputs": [
    {
     "name": "stdout",
     "output_type": "stream",
     "text": [
      "{'name': 'vasanth', 'domain': 'python', 'duration': 90}\n",
      "vasanth\n",
      "python\n",
      "90\n",
      "{'name': 'vasanth', 'domain': 'python', 'duration': 90, 'age': 23}\n",
      "23\n",
      "{'name': 'vasanth', 'domain': 'python', 'duration': 90}\n",
      "{'name': 'vasanth', 'domain': 'python'}\n",
      "{}\n"
     ]
    },
    {
     "ename": "NameError",
     "evalue": "name 'dict1' is not defined",
     "output_type": "error",
     "traceback": [
      "\u001b[1;31m---------------------------------------------------------------------------\u001b[0m",
      "\u001b[1;31mNameError\u001b[0m                                 Traceback (most recent call last)",
      "Cell \u001b[1;32mIn[78], line 27\u001b[0m\n\u001b[0;32m     23\u001b[0m \u001b[39mprint\u001b[39m(dict1)\n\u001b[0;32m     26\u001b[0m \u001b[39mdel\u001b[39;00m dict1\n\u001b[1;32m---> 27\u001b[0m \u001b[39mprint\u001b[39m(dict1)\n",
      "\u001b[1;31mNameError\u001b[0m: name 'dict1' is not defined"
     ]
    }
   ],
   "source": [
    "# dictonary\n",
    "\n",
    "dict1={\"name\":'vasanth',\"domain\":'python',\"duration\":90}                #creation\n",
    "print(dict1)\n",
    "\n",
    "\n",
    "print(dict1[\"name\"])\n",
    "print(dict1[\"domain\"])                #accessing dict\n",
    "print(dict1.get(\"duration\"))\n",
    "\n",
    "\n",
    "dict1[\"age\"]=23                           #adding element\n",
    "print(dict1)\n",
    "print(dict1[\"age\"])\n",
    "\n",
    "del dict1[\"age\"]\n",
    "print(dict1)                              # deleting dict element\n",
    "\n",
    "dict1.pop(\"duration\")\n",
    "print(dict1)\n",
    "\n",
    "dict1.clear()                  # clearing all the data\n",
    "print(dict1)\n",
    "\n",
    "\n",
    "del dict1                    # deleting the dictonary\n",
    "print(dict1)\n"
   ]
  },
  {
   "cell_type": "code",
   "execution_count": 112,
   "metadata": {},
   "outputs": [
    {
     "name": "stdout",
     "output_type": "stream",
     "text": [
      "3\n",
      "vasanth\n",
      "{'name': 'vasanth', 'domain': 'python'}\n",
      "None\n",
      "dict_items([('name', 'vasanth'), ('domain', 'ml')])\n",
      "dict_keys(['name', 'domain'])\n",
      "dict_values(['vasanth', 'ml'])\n",
      "{}\n"
     ]
    }
   ],
   "source": [
    "# dictionary methods\n",
    "\n",
    "dict1={\"name\":'vasanth',\"domain\":'python',\"duration\":90} \n",
    "\n",
    "print(len(dict1))\n",
    "\n",
    "print(dict1.get(\"name\"))           # get\n",
    "\n",
    "dict1.pop(\"duration\")\n",
    "print(dict1)                      # pop\n",
    "\n",
    "print(dict1.update({\"domain\":\"ml\"}))          #update ---changes the values of a key\n",
    "\n",
    "print(dict1.items())                #items\n",
    "\n",
    "print(dict1.keys())              # keys\n",
    "\n",
    "print(dict1.values())            # values\n",
    "\n",
    "dict1.clear()              # clear\n",
    "print(dict1)\n"
   ]
  },
  {
   "cell_type": "code",
   "execution_count": 94,
   "metadata": {},
   "outputs": [
    {
     "name": "stdout",
     "output_type": "stream",
     "text": [
      "name\n",
      "domain\n",
      "duration\n",
      "\n",
      "\n",
      "vasanth\n",
      "python\n",
      "90\n",
      "\n",
      "\n",
      "vasanth\n",
      "python\n",
      "90\n",
      "\n",
      "\n",
      "name : vasanth\n",
      "domain : python\n",
      "duration : 90\n"
     ]
    }
   ],
   "source": [
    "dict1={\"name\":'vasanth',\"domain\":'python',\"duration\":90} \n",
    "\n",
    "for i in dict1:\n",
    "    print(i)\n",
    "\n",
    "print(\"\\n\")\n",
    "\n",
    "for i in dict1:\n",
    "    print(dict1[i])\n",
    "\n",
    "print(\"\\n\")\n",
    "\n",
    "for i in dict1.values():\n",
    "    print(i)\n",
    "\n",
    "print(\"\\n\")\n",
    "\n",
    "for i,j in dict1.items():\n",
    "    print(i,\":\",j)\n"
   ]
  },
  {
   "cell_type": "code",
   "execution_count": 114,
   "metadata": {},
   "outputs": [
    {
     "name": "stdout",
     "output_type": "stream",
     "text": [
      "{1: 100, 2: 200, 3: 300, 4: 400}\n"
     ]
    }
   ],
   "source": [
    "# prgms on dict to concatinate \n",
    "\n",
    "dict1={1:100,2:200}\n",
    "dict2={3:300,4:400}\n",
    "dict_c={}\n",
    "\n",
    "for i in (dict1,dict2):\n",
    "    dict_c.update(i)\n",
    "\n",
    "print(dict_c)"
   ]
  },
  {
   "cell_type": "code",
   "execution_count": 122,
   "metadata": {},
   "outputs": [
    {
     "name": "stdout",
     "output_type": "stream",
     "text": [
      "{1: 1, 2: 4, 3: 9, 4: 16, 5: 25, 6: 36, 7: 49, 8: 64, 9: 81, 10: 100}\n"
     ]
    }
   ],
   "source": [
    "# prgrm to take a number and print their squares or cubes\n",
    "\n",
    "n=int(input(\"enter the n.o\"))\n",
    "dict_={}\n",
    "for i in range(1,n+1):\n",
    "    dict_[i]=i**2\n",
    "    #dict_[i]=i**3\n",
    "print(dict_)  "
   ]
  },
  {
   "cell_type": "code",
   "execution_count": 16,
   "metadata": {},
   "outputs": [
    {
     "name": "stdout",
     "output_type": "stream",
     "text": [
      "{}\n"
     ]
    }
   ],
   "source": [
    "# progrm to count the occurence of characters in a string\n",
    "\n",
    "line=input(\"enter the string\")\n",
    "#line1=\"\".join(line)\n",
    "#line2=list(line1)\n",
    "#print(line2)\n",
    "dict4={}\n",
    "word=line.split()\n",
    "for i in word:\n",
    "    if i in dict4:\n",
    "        dict4.get(i,0)+1\n",
    "print(dict4)"
   ]
  },
  {
   "cell_type": "code",
   "execution_count": 18,
   "metadata": {},
   "outputs": [
    {
     "name": "stdout",
     "output_type": "stream",
     "text": [
      "**you are allowed to thake the exam**\n"
     ]
    }
   ],
   "source": [
    "no_classes_held=int(input(\"enter the n.o of classes held\"))\n",
    "no_classes_attended=int(input(\"enter the n.o of classes attended\"))\n",
    "attendance_percentage= (no_classes_attended/float(no_classes_held))*100\n",
    "\n",
    "if(attendance_percentage>=75):\n",
    "    print(\"**you are allowed to thake the exam**\")\n",
    "else:\n",
    "    print(\"you are not allowed to take th exam!!!\")"
   ]
  },
  {
   "cell_type": "code",
   "execution_count": 2,
   "metadata": {},
   "outputs": [
    {
     "data": {
      "text/plain": [
       "('python', ['name', 'sno'])"
      ]
     },
     "execution_count": 2,
     "metadata": {},
     "output_type": "execute_result"
    }
   ],
   "source": [
    "def fun8(r1,k1):\n",
    "    sor=sorted(k1)\n",
    "    return r1,sor\n",
    "fun8(\"python\",k1={\"sno\":[\"c\",\"a\",\"b\"],\"name\":[\"vasanth\",\"nayani\",\"ranbir\"]})"
   ]
  },
  {
   "cell_type": "code",
   "execution_count": null,
   "metadata": {},
   "outputs": [],
   "source": []
  }
 ],
 "metadata": {
  "kernelspec": {
   "display_name": "Python 3",
   "language": "python",
   "name": "python3"
  },
  "language_info": {
   "codemirror_mode": {
    "name": "ipython",
    "version": 3
   },
   "file_extension": ".py",
   "mimetype": "text/x-python",
   "name": "python",
   "nbconvert_exporter": "python",
   "pygments_lexer": "ipython3",
   "version": "3.10.10"
  },
  "orig_nbformat": 4
 },
 "nbformat": 4,
 "nbformat_minor": 2
}
