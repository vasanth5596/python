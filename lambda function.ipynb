{
 "cells": [
  {
   "cell_type": "code",
   "execution_count": 8,
   "metadata": {},
   "outputs": [
    {
     "name": "stdout",
     "output_type": "stream",
     "text": [
      "10\n"
     ]
    }
   ],
   "source": [
    "def fun(n):     #double\n",
    "    return lambda a:a*n\n",
    "d=fun(2) \n",
    "print(d(5))"
   ]
  },
  {
   "cell_type": "code",
   "execution_count": 11,
   "metadata": {},
   "outputs": [
    {
     "name": "stdout",
     "output_type": "stream",
     "text": [
      "15\n"
     ]
    }
   ],
   "source": [
    "def fun(n):     #triple\n",
    "    return lambda  a:a*n\n",
    "t=fun(3)\n",
    "print(t(5))"
   ]
  },
  {
   "cell_type": "code",
   "execution_count": 5,
   "metadata": {},
   "outputs": [
    {
     "ename": "NameError",
     "evalue": "name 'd' is not defined",
     "output_type": "error",
     "traceback": [
      "\u001b[1;31m---------------------------------------------------------------------------\u001b[0m",
      "\u001b[1;31mNameError\u001b[0m                                 Traceback (most recent call last)",
      "Cell \u001b[1;32mIn[5], line 1\u001b[0m\n\u001b[1;32m----> 1\u001b[0m \u001b[39mprint\u001b[39m(d(\u001b[39m6\u001b[39m)) \u001b[39m#double\u001b[39;00m\n\u001b[0;32m      2\u001b[0m \u001b[39mprint\u001b[39m(t(\u001b[39m6\u001b[39m))  \u001b[39m#triple\u001b[39;00m\n",
      "\u001b[1;31mNameError\u001b[0m: name 'd' is not defined"
     ]
    }
   ],
   "source": [
    "print(d(6)) #double\n",
    "print(t(6))  #triple"
   ]
  },
  {
   "cell_type": "code",
   "execution_count": 24,
   "metadata": {},
   "outputs": [
    {
     "name": "stdout",
     "output_type": "stream",
     "text": [
      "17\n",
      "6\n"
     ]
    }
   ],
   "source": [
    "#1. Write a Python program to create a lambda function that adds 15 to a given number passed in as an argument, also create a lambda function that multiplies argument x with argument y and prints the result.\n",
    "\n",
    "#def fun(n):\n",
    "#   return lambda a:a+n\n",
    "#A=fun(15)\n",
    "#print(A(6))\n",
    "\n",
    "\n",
    "r=lambda a:a+15\n",
    "print(r(2))\n",
    "\n",
    "r=lambda x,y:x*y\n",
    "print(r(2,3))"
   ]
  },
  {
   "cell_type": "code",
   "execution_count": 27,
   "metadata": {},
   "outputs": [
    {
     "name": "stdout",
     "output_type": "stream",
     "text": [
      "34955818\n"
     ]
    }
   ],
   "source": [
    "#2. Write a Python program to create a function that takes one argument, and that argument will be multiplied with an unknown given number.\n",
    "\n",
    "def fun1(n):\n",
    "    return lambda a:a*n\n",
    "r=fun1(4567)\n",
    "print(r(7654))\n"
   ]
  },
  {
   "cell_type": "code",
   "execution_count": 38,
   "metadata": {},
   "outputs": [
    {
     "name": "stdout",
     "output_type": "stream",
     "text": [
      "[('eng', 6), ('mat', 5), ('sic', 7), ('soc', 4)]\n"
     ]
    }
   ],
   "source": [
    "#3. Write a Python program to sort a list of tuples using Lambda.\n",
    "list=[(\"eng\",6),(\"soc\",4),(\"sic\",7),(\"mat\",5)]\n",
    "list.sort(key=lambda a: a[0])\n",
    "print(list)\n",
    "\n",
    "# sorted on the basis of strings\n"
   ]
  },
  {
   "cell_type": "code",
   "execution_count": 39,
   "metadata": {},
   "outputs": [
    {
     "name": "stdout",
     "output_type": "stream",
     "text": [
      "[('soc', 4), ('mat', 5), ('eng', 6), ('sic', 7)]\n"
     ]
    }
   ],
   "source": [
    "# sorted on the basis of n.os\n",
    "\n",
    "list=[(\"eng\",6),(\"soc\",4),(\"sic\",7),(\"mat\",5)]\n",
    "list.sort(key=lambda a: a[1])\n",
    "print(list)"
   ]
  },
  {
   "cell_type": "code",
   "execution_count": 4,
   "metadata": {},
   "outputs": [
    {
     "name": "stdout",
     "output_type": "stream",
     "text": [
      "[2, 4, 6, 8]\n",
      "[1, 3, 5, 7, 9, 93949]\n"
     ]
    }
   ],
   "source": [
    "#5. Write a Python program to filter a list of integers using Lambda.\n",
    "nums=[1,2,3,4,5,6,7,8,9,93949]\n",
    "even=filter(lambda a:a%2==0,nums)\n",
    "odd=filter(lambda a:a%2!=0,nums)\n",
    "print(list(even))\n",
    "print(list(odd))"
   ]
  },
  {
   "cell_type": "code",
   "execution_count": 1,
   "metadata": {},
   "outputs": [
    {
     "name": "stdout",
     "output_type": "stream",
     "text": [
      "[2, 4, 6, 8]\n"
     ]
    }
   ],
   "source": [
    "# using function\n",
    "\n",
    "def even_(n):\n",
    "    return n%2==0\n",
    "\n",
    "    \n",
    "list1 = [1,2,3,4,5,6,7,8,9]\n",
    " \n",
    "even = filter(even_,list1)\n",
    "print(list(even))\n"
   ]
  },
  {
   "cell_type": "code",
   "execution_count": null,
   "metadata": {},
   "outputs": [],
   "source": []
  }
 ],
 "metadata": {
  "kernelspec": {
   "display_name": "Python 3",
   "language": "python",
   "name": "python3"
  },
  "language_info": {
   "codemirror_mode": {
    "name": "ipython",
    "version": 3
   },
   "file_extension": ".py",
   "mimetype": "text/x-python",
   "name": "python",
   "nbconvert_exporter": "python",
   "pygments_lexer": "ipython3",
   "version": "3.10.10"
  },
  "orig_nbformat": 4
 },
 "nbformat": 4,
 "nbformat_minor": 2
}
