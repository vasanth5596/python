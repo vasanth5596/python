{
 "cells": [
  {
   "attachments": {},
   "cell_type": "markdown",
   "metadata": {},
   "source": [
    "1.\tWrite a Python function to find the maximum of three numbers"
   ]
  },
  {
   "cell_type": "code",
   "execution_count": 39,
   "metadata": {},
   "outputs": [
    {
     "data": {
      "text/plain": [
       "9"
      ]
     },
     "execution_count": 39,
     "metadata": {},
     "output_type": "execute_result"
    }
   ],
   "source": [
    "def number(a): \n",
    "    return max(list1)\n",
    " \n",
    "list1 = [1,5,9]   \n",
    "number(list1)"
   ]
  },
  {
   "attachments": {},
   "cell_type": "markdown",
   "metadata": {},
   "source": [
    "2.\tWrite a Python function to sum all the numbers in a list \n",
    "Sample List : (11, 2, 3, 0, 10)\n",
    "Expected Output : 26\n"
   ]
  },
  {
   "cell_type": "code",
   "execution_count": 74,
   "metadata": {},
   "outputs": [
    {
     "name": "stdout",
     "output_type": "stream",
     "text": [
      "[1, 2, 3]\n",
      "6\n"
     ]
    }
   ],
   "source": [
    "\n",
    "def add():\n",
    "    list2t=[]\n",
    "    for i in range(3):\n",
    "        x=int(input(\"\"))\n",
    "        list2t.append(x)\n",
    "    print(list2t)\n",
    "    sum= 0\n",
    "    for i in list2t:\n",
    "        sum = sum+i\n",
    "        i+=1\n",
    "    print(sum)\n",
    "  \n",
    "add()"
   ]
  },
  {
   "attachments": {},
   "cell_type": "markdown",
   "metadata": {},
   "source": [
    "3.\tWrite a Python program to reverse a string.\n",
    "Sample String: \"1234abcd\"\n",
    "Expected Output: \"dcba4321\"\n"
   ]
  },
  {
   "cell_type": "code",
   "execution_count": null,
   "metadata": {},
   "outputs": [],
   "source": [
    "\n",
    "def reverse():\n",
    "    str1 = \"1234abcd\"[::-1]\n",
    "    print(str1)\n",
    "    \n",
    "reverse()\n",
    "\n"
   ]
  },
  {
   "attachments": {},
   "cell_type": "markdown",
   "metadata": {},
   "source": [
    "4.\tWrite a Python function that accepts a string and counts the number of upper and lower case letters. \n",
    "Sample String : 'The quick Brow Fox'\n",
    "Expected Output :\n",
    "No. of Upper case characters : 3\n",
    "No. of Lower case Characters : 12\n"
   ]
  },
  {
   "cell_type": "code",
   "execution_count": 40,
   "metadata": {},
   "outputs": [
    {
     "name": "stdout",
     "output_type": "stream",
     "text": [
      "No.of upper letters are : 12\n",
      "No.of lower letters are : 3\n"
     ]
    }
   ],
   "source": [
    "x = \"The quick Brow Fox\"\n",
    "def uplr(x):\n",
    "    u = 0\n",
    "    l = 0\n",
    "    for i in x:\n",
    "        if i>='a' and i<='z':\n",
    "            l+=1\n",
    "            \n",
    "        if i>='A' and i<='Z':\n",
    "            u+=1\n",
    "            \n",
    "    print(\"No.of upper letters are :\",l)\n",
    "    print(\"No.of lower letters are :\",u)\n",
    "    \n",
    "    \n",
    "uplr(x)"
   ]
  },
  {
   "attachments": {},
   "cell_type": "markdown",
   "metadata": {},
   "source": [
    "5.\tWrite a Python function that takes a list and returns a new list with    distinct elements from the first list \n",
    "Sample List : [1,2,3,3,3,3,4,5]\n",
    "output List : [1, 2, 3, 4, 5]\n"
   ]
  },
  {
   "cell_type": "code",
   "execution_count": 41,
   "metadata": {},
   "outputs": [
    {
     "name": "stdout",
     "output_type": "stream",
     "text": [
      "[1, 2, 3, 4, 5]\n"
     ]
    }
   ],
   "source": [
    "#5.\tWrite a Python function that takes a list and returns a new list with    distinct elements from the first list \n",
    "#Sample List : [1,2,3,3,3,3,4,5]\n",
    "#output List : [1, 2, 3, 4, 5]\n",
    "\n",
    "list1  = [1,2,3,3,3,3,4,5]\n",
    "new_list = []\n",
    "def sample(n):\n",
    "    for i in list1:\n",
    "        if i not in new_list:\n",
    "            new_list.append(i)\n",
    "    print(new_list)\n",
    "    \n",
    "sample(list1)"
   ]
  },
  {
   "attachments": {},
   "cell_type": "markdown",
   "metadata": {},
   "source": [
    "6.\tWrite a Python function that checks whether a passed string is a palindrome or not\n"
   ]
  },
  {
   "cell_type": "code",
   "execution_count": 54,
   "metadata": {
    "notebookRunGroups": {
     "groupValue": "1"
    }
   },
   "outputs": [
    {
     "name": "stdout",
     "output_type": "stream",
     "text": [
      "Given string is paraldrom\n"
     ]
    }
   ],
   "source": [
    "#6.\tWrite a Python function that checks whether a passed string is a palindrome or not\n",
    "\n",
    "x = input(\"Enter a string\")\n",
    "y = x[::-1]\n",
    "def palindrome(n):\n",
    "    if x==y:print('Given string is paraldrom')\n",
    "    else:print(\"The given string is not a palindrome\")   \n",
    "palindrome(x)"
   ]
  },
  {
   "attachments": {},
   "cell_type": "markdown",
   "metadata": {},
   "source": [
    "7.\tWrite a Python function that prints out the first n rows of Pascal's triangle.\n",
    "\n"
   ]
  },
  {
   "cell_type": "code",
   "execution_count": 75,
   "metadata": {},
   "outputs": [
    {
     "name": "stdout",
     "output_type": "stream",
     "text": [
      "     \n",
      "    1 \n",
      "   1 1 \n",
      "  1 2 1 \n",
      " 1 3 3 1 \n",
      "1 4 6 4 1 \n"
     ]
    }
   ],
   "source": [
    "\n",
    "\n",
    "def solve(n):\n",
    "    for i in range(n+1):\n",
    "        for j in range(n-i):\n",
    "            print(' ',end='')\n",
    "            \n",
    "        c = 1\n",
    "        for j in range(1, i+1):\n",
    "            print(c,' ',sep='',end='')\n",
    "            c= c*(i-j)//j\n",
    "        print()\n",
    "        \n",
    "n= 5\n",
    "solve(n)"
   ]
  },
  {
   "attachments": {},
   "cell_type": "markdown",
   "metadata": {},
   "source": [
    "8.\tWrite a Python program to execute a string containing Python code"
   ]
  },
  {
   "cell_type": "code",
   "execution_count": 13,
   "metadata": {},
   "outputs": [
    {
     "ename": "IndentationError",
     "evalue": "unexpected indent (<string>, line 2)",
     "output_type": "error",
     "traceback": [
      "Traceback \u001b[1;36m(most recent call last)\u001b[0m:\n",
      "\u001b[0m  File \u001b[0;32m~\\AppData\\Roaming\\Python\\Python310\\site-packages\\IPython\\core\\interactiveshell.py:3460\u001b[0m in \u001b[0;35mrun_code\u001b[0m\n    exec(code_obj, self.user_global_ns, self.user_ns)\u001b[0m\n",
      "\u001b[0m  Cell \u001b[0;32mIn[13], line 8\u001b[0m\n    pythoncode()\u001b[0m\n",
      "\u001b[1;36m  Cell \u001b[1;32mIn[13], line 6\u001b[1;36m in \u001b[1;35mpythoncode\u001b[1;36m\n\u001b[1;33m    exec(s)\u001b[1;36m\n",
      "\u001b[1;36m  File \u001b[1;32m<string>:2\u001b[1;36m\u001b[0m\n\u001b[1;33m    abc\u001b[0m\n\u001b[1;37m    ^\u001b[0m\n\u001b[1;31mIndentationError\u001b[0m\u001b[1;31m:\u001b[0m unexpected indent\n"
     ]
    }
   ],
   "source": [
    "\n",
    "\n",
    "def pythoncode():\n",
    "    s='''\n",
    "       abc\n",
    "    '''\n",
    "\n",
    "    exec(s)\n",
    "    \n",
    "pythoncode()"
   ]
  },
  {
   "attachments": {},
   "cell_type": "markdown",
   "metadata": {},
   "source": [
    "9.\tWrite a Python program to access a function inside a function"
   ]
  },
  {
   "cell_type": "code",
   "execution_count": 85,
   "metadata": {},
   "outputs": [
    {
     "name": "stdout",
     "output_type": "stream",
     "text": [
      "30\n"
     ]
    }
   ],
   "source": [
    "def outerfun():\n",
    "    a=10\n",
    "    b=20\n",
    "    def innerfun():\n",
    "        print(a+b)\n",
    "    innerfun()\n",
    "outerfun()"
   ]
  },
  {
   "attachments": {},
   "cell_type": "markdown",
   "metadata": {},
   "source": [
    "10.Write a Python program to detect the number of local variables   declared  in a function \n",
    "Sample Output: 3\n"
   ]
  },
  {
   "cell_type": "code",
   "execution_count": 90,
   "metadata": {},
   "outputs": [
    {
     "name": "stdout",
     "output_type": "stream",
     "text": [
      "3\n"
     ]
    }
   ],
   "source": [
    "def add(a,b,c):\n",
    "    print(a+c+b)\n",
    "print(add.__code__.co_nlocals)"
   ]
  }
 ],
 "metadata": {
  "kernelspec": {
   "display_name": "Python 3",
   "language": "python",
   "name": "python3"
  },
  "language_info": {
   "codemirror_mode": {
    "name": "ipython",
    "version": 3
   },
   "file_extension": ".py",
   "mimetype": "text/x-python",
   "name": "python",
   "nbconvert_exporter": "python",
   "pygments_lexer": "ipython3",
   "version": "3.10.10"
  },
  "orig_nbformat": 4
 },
 "nbformat": 4,
 "nbformat_minor": 2
}
