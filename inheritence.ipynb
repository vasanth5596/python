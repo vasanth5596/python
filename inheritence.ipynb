{
 "cells": [
  {
   "cell_type": "code",
   "execution_count": 44,
   "metadata": {},
   "outputs": [
    {
     "name": "stdout",
     "output_type": "stream",
     "text": [
      "vasanth G\n",
      "geethu M\n",
      "alia b 10\n",
      "alia b\n"
     ]
    }
   ],
   "source": [
    "# single inheritence\n",
    "\n",
    "\n",
    "# create  a parent class\n",
    "class student:\n",
    "    def __init__(self,firstname,lastname):\n",
    "        self.firstname=firstname\n",
    "        self.lastname=lastname\n",
    "    # method in parent class\n",
    "    def printname(self):\n",
    "        print(self.firstname,self.lastname)\n",
    "        \n",
    "#objects of parent class\n",
    "s1=student(\"vasanth\",\"G\")\n",
    "s2=student(\"geethu\",\"M\")\n",
    "\n",
    "#calling th methods in parent class using the objects\n",
    "s1.printname()\n",
    "s2.printname()\n",
    "\n",
    "\n",
    "class classname(student):\n",
    "    def __init__(self,firstname,lastname,cname):            # gets called automatically and no longer inherit parent class \n",
    "        student.__init__(self,firstname,lastname)\n",
    "        #super().__init__(self,firstname,lastname)           #To keep the inheritance of the parent's __init__() function, add a call to the parent's __init__() function:\n",
    "        self.cname=cname\n",
    "\n",
    "    # create a child class method   \n",
    "    def display(self):\n",
    "        print(self.firstname,self.lastname,self.cname)\n",
    "    \n",
    "s3=classname(\"alia\",\"b\",10)\n",
    "s3.display()\n",
    "s3.printname()  # s3(child class object) inherited parent class method printname()\n",
    "\n",
    "#s1.display()    # gives error bcz s1 is object of parent class and it can not access child class methods"
   ]
  },
  {
   "cell_type": "code",
   "execution_count": 25,
   "metadata": {},
   "outputs": [
    {
     "name": "stdout",
     "output_type": "stream",
     "text": [
      "eat well\n",
      "ok!!\n"
     ]
    }
   ],
   "source": [
    "#Single inheritence\n",
    "\n",
    "class mom:\n",
    "    def say1(self):\n",
    "        print(\"eat well\")\n",
    " \n",
    "class son(mom):                       # son inherits mom class\n",
    "    def display(self):\n",
    "        super().say1()\n",
    "        print(\"ok!!\")\n",
    "s1=son()\n",
    "s1.display()\n"
   ]
  },
  {
   "cell_type": "code",
   "execution_count": 30,
   "metadata": {},
   "outputs": [
    {
     "name": "stdout",
     "output_type": "stream",
     "text": [
      "alia 1012\n",
      "alia 1012 120000\n"
     ]
    }
   ],
   "source": [
    "# mutiple inheritence\n",
    "\n",
    "class bank1:\n",
    "    def __init__(self,name,acc,balnc):\n",
    "        self.name=name\n",
    "        self.acc=acc\n",
    "        self.balnc=balnc\n",
    "     \n",
    "    def details1(self):\n",
    "        print(self.name,self.acc)\n",
    "    \n",
    "class bank2:\n",
    "    def __init__(self,name,acc,balnc):\n",
    "        self.name=name\n",
    "        self.acc=acc\n",
    "        self.balnc=balnc\n",
    "\n",
    "    def details2(self):\n",
    "        print(self.name,self.acc,self.balnc)\n",
    "    \n",
    "class bank3(bank1,bank2):\n",
    "    def __init__(self,name,acc,balnc):\n",
    "        bank1.__init__(self,name,acc,balnc)\n",
    "        bank2.__init__(self,name,acc,balnc)\n",
    "       # super().details1()\n",
    "       # super().details2()\n",
    "\n",
    "b1=bank3(\"alia\",1012,120000)\n",
    "b1.details1()\n",
    "b1.details2()\n"
   ]
  },
  {
   "cell_type": "code",
   "execution_count": 33,
   "metadata": {},
   "outputs": [
    {
     "name": "stdout",
     "output_type": "stream",
     "text": [
      "eat well\n",
      "work hard\n"
     ]
    }
   ],
   "source": [
    "# multiple inheritence\n",
    "\n",
    "class mom:\n",
    "    def say1(self):\n",
    "        print(\"eat well\")\n",
    "\n",
    "class dad:\n",
    "    def say2(self):\n",
    "        print(\"work hard\")\n",
    "\n",
    "class son(mom,dad):                      # son inherits both mom and dad\n",
    "    def display(self):\n",
    "        super().say1()\n",
    "        super().say2()\n",
    "       \n",
    "s1=son()\n",
    "s1.display()"
   ]
  },
  {
   "cell_type": "code",
   "execution_count": 43,
   "metadata": {},
   "outputs": [
    {
     "name": "stdout",
     "output_type": "stream",
     "text": [
      "eat well\n",
      "eat well\n",
      "work hard\n"
     ]
    }
   ],
   "source": [
    "# multilevel inheritence\n",
    "\n",
    "class mom:\n",
    "    def say1(self):\n",
    "        print(\"eat well\")\n",
    "\n",
    "class dad(mom):\n",
    "    def say2(self):\n",
    "        super().say1()\n",
    "        print(\"work hard\")\n",
    "\n",
    "class son(dad):               # son inherits both mom class through dad class\n",
    "    def display(self):\n",
    "        super().say1()\n",
    "        super().say2()\n",
    "       \n",
    "s1=son()\n",
    "s1.display()"
   ]
  },
  {
   "cell_type": "code",
   "execution_count": 42,
   "metadata": {},
   "outputs": [
    {
     "name": "stdout",
     "output_type": "stream",
     "text": [
      "eat well\n",
      "work hard\n",
      "eat well\n"
     ]
    }
   ],
   "source": [
    "# Hierarchical Inheritance\n",
    "\n",
    "class mom:\n",
    "    def say1(self):\n",
    "        print(\"eat well\")\n",
    "\n",
    "class dad(mom):\n",
    "    def say2(self):\n",
    "        super().say1()\n",
    "        print(\"work hard\")\n",
    "\n",
    "class son(mom):                     \n",
    "    def display(self):\n",
    "        super().say1()\n",
    "\n",
    "d1=dad()\n",
    "d1.say2()\n",
    "\n",
    "s1=son()\n",
    "s1.display()\n",
    "\n"
   ]
  },
  {
   "cell_type": "code",
   "execution_count": null,
   "metadata": {},
   "outputs": [],
   "source": [
    "# 5.hybrid inheritance---combination of any other inheritences\n",
    "\n"
   ]
  }
 ],
 "metadata": {
  "kernelspec": {
   "display_name": "Python 3",
   "language": "python",
   "name": "python3"
  },
  "language_info": {
   "codemirror_mode": {
    "name": "ipython",
    "version": 3
   },
   "file_extension": ".py",
   "mimetype": "text/x-python",
   "name": "python",
   "nbconvert_exporter": "python",
   "pygments_lexer": "ipython3",
   "version": "3.10.10"
  },
  "orig_nbformat": 4
 },
 "nbformat": 4,
 "nbformat_minor": 2
}
