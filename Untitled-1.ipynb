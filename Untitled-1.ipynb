{
 "cells": [
  {
   "cell_type": "code",
   "execution_count": 4,
   "metadata": {},
   "outputs": [
    {
     "name": "stdout",
     "output_type": "stream",
     "text": [
      "access granted\n"
     ]
    }
   ],
   "source": [
    "#control statements\n",
    "# if,if..else, elif\n",
    "\n",
    "access_no=int(input(\"enter your access number\"))\n",
    "if(access_no==321):\n",
    "    print(\"access granted\")"
   ]
  },
  {
   "cell_type": "code",
   "execution_count": 6,
   "metadata": {},
   "outputs": [
    {
     "name": "stdout",
     "output_type": "stream",
     "text": [
      "access denied\n"
     ]
    }
   ],
   "source": [
    "access_no=int(input(\"enter your access number\"))\n",
    "if(access_no==321):\n",
    "    print(\"access granted\")\n",
    "else:\n",
    "    print(\"access denied\")\n"
   ]
  },
  {
   "cell_type": "code",
   "execution_count": 9,
   "metadata": {},
   "outputs": [
    {
     "name": "stdout",
     "output_type": "stream",
     "text": [
      "you got 'A' grade\n"
     ]
    }
   ],
   "source": [
    "marks=int(input(\"enter your marks \"))\n",
    "if(marks>90 and marks<100):\n",
    "    print(\"you got 'A' grade\")\n",
    "elif(marks>=75 and marks<=90):\n",
    "    print(\"you got 'B' grade\")\n",
    "elif(marks>75):\n",
    "     print(\"better luck next time\")\n",
    "else:\n",
    "    print(\"invalid\")"
   ]
  },
  {
   "cell_type": "code",
   "execution_count": 11,
   "metadata": {},
   "outputs": [
    {
     "name": "stdout",
     "output_type": "stream",
     "text": [
      "access denied\n",
      "access granted\n",
      "access denied\n",
      "access denied\n",
      "access denied\n"
     ]
    }
   ],
   "source": [
    "#loops\n",
    "#for,while\n",
    "\n",
    "for access_no in range(320,325):\n",
    "    if (access_no==321):\n",
    "        print(\"access granted\")\n",
    "    else:\n",
    "        print(\"access denied\")"
   ]
  },
  {
   "cell_type": "code",
   "execution_count": 77,
   "metadata": {},
   "outputs": [
    {
     "name": "stdout",
     "output_type": "stream",
     "text": [
      "0\n",
      "1\n",
      "2\n",
      "3\n",
      "4\n",
      "5\n"
     ]
    }
   ],
   "source": [
    "# while loop\n",
    "\n",
    "i=0\n",
    "while(i<=5):\n",
    "    print(i)\n",
    "    i+=1\n",
    "    "
   ]
  },
  {
   "cell_type": "code",
   "execution_count": 69,
   "metadata": {},
   "outputs": [
    {
     "name": "stdout",
     "output_type": "stream",
     "text": [
      "access denied\n",
      "access denied\n"
     ]
    }
   ],
   "source": [
    "# break\n",
    "\n",
    "for access_no in range(320,325):\n",
    "    if(access_no==322):\n",
    "        break\n",
    "    else:\n",
    "        print(\"access denied\")\n",
    "        access_no+=1\n",
    "        "
   ]
  },
  {
   "cell_type": "code",
   "execution_count": 60,
   "metadata": {},
   "outputs": [
    {
     "name": "stdout",
     "output_type": "stream",
     "text": [
      "access denied\n",
      "access denied\n",
      "access denied\n",
      "access denied\n"
     ]
    }
   ],
   "source": [
    "# continue\n",
    "for access_no in range(320,325):\n",
    "    if(access_no==321):\n",
    "        continue\n",
    "    else:\n",
    "        print(\"access denied\")\n",
    "        access_no+=1"
   ]
  },
  {
   "cell_type": "code",
   "execution_count": 80,
   "metadata": {},
   "outputs": [
    {
     "name": "stdout",
     "output_type": "stream",
     "text": [
      "I\n",
      "II\n",
      "III\n",
      "IV\n",
      "V\n"
     ]
    }
   ],
   "source": [
    "roman_numerals=['I','II','III','IV','V']\n",
    "for numerals in roman_numerals:\n",
    "    print(numerals)"
   ]
  },
  {
   "cell_type": "code",
   "execution_count": 5,
   "metadata": {},
   "outputs": [
    {
     "data": {
      "text/plain": [
       "'dep=[\\'development\\',\\'testing\\',\\'ml\\']\\nemp=[\\'vasanth\\',\\'satyanarayana\\',\\'veeresh\\']\\nsalary=[50,70,90]\\nprint(\"name of the employeee:%s\\n,employee domain: %s \\n,employee salary%d \\n\",%(emp[0],dep[0],salary[0]))\\n'"
      ]
     },
     "execution_count": 5,
     "metadata": {},
     "output_type": "execute_result"
    }
   ],
   "source": [
    "\"\"\"dep=['development','testing','ml']\n",
    "emp=['vasanth','satyanarayana','veeresh']\n",
    "salary=[50,70,90]\n",
    "print(\"name of the employeee:%s\\n,employee domain: %s \\n,employee salary%d \\n\",%(emp[0],dep[0],salary[0]))\n",
    "\"\"\""
   ]
  },
  {
   "cell_type": "code",
   "execution_count": 8,
   "metadata": {},
   "outputs": [
    {
     "name": "stdout",
     "output_type": "stream",
     "text": [
      "hello vasanth!! your access number is 321\n"
     ]
    }
   ],
   "source": [
    "# f-string\n",
    "name=\"vasanth\"\n",
    "access_no=321\n",
    "print(f\"hello {name}!! your access number is {access_no}\")"
   ]
  },
  {
   "cell_type": "code",
   "execution_count": null,
   "metadata": {},
   "outputs": [],
   "source": []
  }
 ],
 "metadata": {
  "kernelspec": {
   "display_name": "Python 3",
   "language": "python",
   "name": "python3"
  },
  "language_info": {
   "codemirror_mode": {
    "name": "ipython",
    "version": 3
   },
   "file_extension": ".py",
   "mimetype": "text/x-python",
   "name": "python",
   "nbconvert_exporter": "python",
   "pygments_lexer": "ipython3",
   "version": "3.10.10"
  },
  "orig_nbformat": 4,
  "vscode": {
   "interpreter": {
    "hash": "2539afa28237424c50a7c2dfc5e2669e8fc966c57afacedf0491a5c350f92531"
   }
  }
 },
 "nbformat": 4,
 "nbformat_minor": 2
}
